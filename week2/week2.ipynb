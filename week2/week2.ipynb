{
 "cells": [
  {
   "cell_type": "markdown",
   "metadata": {
    "slideshow": {
     "slide_type": "slide"
    }
   },
   "source": [
    "## <center>Elements Of Data Science - F2024</center>\n",
    "# <center>Week 2: Python Intro/Review and Numpy<center>\n",
    "### <center>9/15/2024</center>"
   ]
  },
  {
   "cell_type": "markdown",
   "metadata": {
    "slideshow": {
     "slide_type": "slide"
    }
   },
   "source": [
    "# TODOs\n",
    "\n",
    "- **Review** Selections from PDSH Chapter 2\n",
    "- **Read** Selections from PDSH Chapter 3\n",
    "- **Skim** Selections from PDSH Chapter 4\n",
    "<br>\n",
    " \n",
    "- Complete Week 2 Quiz (Due 1 week from today, Sep 22 @11:59pm)\n",
    "\n",
    "### Announcements \n",
    "**Office hours** \n",
    "- Monday 6pm-6:50pm, location: DSI Conference room\n",
    "- Skype, by appointment only, Tuesdays 6pm+. (link to be sent once OH requested)"
   ]
  },
  {
   "cell_type": "markdown",
   "metadata": {
    "slideshow": {
     "slide_type": "slide"
    }
   },
   "source": [
    "# TODOs\n",
    "\n",
    "- Ch 2. Introduction to NumPy\n",
    "    - Understanding Data Types in Python\n",
    "    - The Basics of NumPy Arrays\n",
    "    - <span style=\"color:gray;\">Skim:</span> Computation on NumPy Arrays: Universal Functions\n",
    "    - Aggregations: Min, Max, and Everything In Between\n",
    "    - <span style=\"color:gray;\">Skim:</span> Computation on Arrays: Broadcasting\n",
    "    - Comparisons, Masks, and Boolean Logic\n",
    "    - Fancy Indexing\n",
    "    - Sorting Arrays\n",
    "    - <span style=\"color:gray;\">Structured Data: NumPy's Structured Arrays</span>"
   ]
  },
  {
   "cell_type": "markdown",
   "metadata": {
    "slideshow": {
     "slide_type": "slide"
    }
   },
   "source": [
    "# TODOs\n",
    "\n",
    "- Ch 3. Data Manipulation with Pandas\n",
    "    - Introducing Pandas Objects\n",
    "    - Data Indexing and Selection\n",
    "    - <span style=\"color:gray;\">Operating on Data in Pandas</span>\n",
    "    - Handling Missing Data\n",
    "    - <span style=\"color:gray;\">Hierarchical Indexing</span>\n",
    "    - Combining Datasets: Concat and Append\n",
    "    - <span style=\"color:gray;\">Combining Datasets: Merge and Join</span>\n",
    "    - Aggregation and Grouping\n",
    "    - <span style=\"color:gray;\">Pivot Tables</span>\n",
    "    - <span style=\"color:gray;\">Skim:</span>Vectorized String Operations\n",
    "    - <span style=\"color:gray;\">Working with Time Series</span>\n",
    "    - <span style=\"color:gray;\">High-Performance Pandas: eval() and query()</span>"
   ]
  },
  {
   "cell_type": "markdown",
   "metadata": {
    "slideshow": {
     "slide_type": "slide"
    }
   },
   "source": [
    "# TODOs\n",
    "\n",
    "- Ch 4. Visualization with Matplotlib\n",
    "    - Simple Line Plots\n",
    "    - Simple Scatter Plots\n",
    "    - <span style=\"color:gray;\">Visualizing Errors</span>\n",
    "    - <span style=\"color:gray;\">Density and Contour Plots</span>\n",
    "    - <span style=\"color:gray;\">Histograms, Binnings, and Density</span>\n",
    "    - <span style=\"color:gray;\">Customizing Plot Legends</span>\n",
    "    - <span style=\"color:gray;\">Customizing Colorbars</span>\n",
    "    - Multiple Subplots\n",
    "    - <span style=\"color:gray;\">Text and Annotation</span>\n",
    "    - <span style=\"color:gray;\">Customizing Ticks</span>\n",
    "    - <span style=\"color:gray;\">Customizing Matplotlib: Configurations and Stylesheets</span>\n",
    "    - Three-Dimensional Plotting in Matplotlib\n",
    "    - <span style=\"color:gray;\">Geographic Data with Basemap</span>\n",
    "    - Visualization with Seaborn\n"
   ]
  },
  {
   "cell_type": "markdown",
   "metadata": {
    "slideshow": {
     "slide_type": "slide"
    }
   },
   "source": [
    "## Getting Changes from Git\n",
    "<br>\n",
    "\n",
    "1. `cd` to the cloned class repostory\n",
    "2. `git pull`\n",
    "<br>\n",
    "\n",
    "example:\n",
    "```terminal\n",
    "$ cd ~/proj/eods-f24\n",
    "$ git pull\n",
    "```"
   ]
  },
  {
   "cell_type": "markdown",
   "metadata": {
    "slideshow": {
     "slide_type": "slide"
    }
   },
   "source": [
    "<br>\n",
    "<br>\n",
    "\n",
    "# <center>Questions?</center>\n",
    "<br>\n",
    "<br>\n"
   ]
  },
  {
   "cell_type": "markdown",
   "metadata": {
    "slideshow": {
     "slide_type": "slide"
    }
   },
   "source": [
    "# TODAY\n",
    "<br>\n",
    "\n",
    "- Tools Review\n",
    "\n",
    "- Getting \"Help\" Documentation\n",
    "\n",
    "- Python (Review?)\n",
    "\n",
    "- Numpy"
   ]
  },
  {
   "cell_type": "markdown",
   "metadata": {
    "slideshow": {
     "slide_type": "slide"
    }
   },
   "source": [
    "# Tools Review\n",
    "\n",
    "- Starting Jupyter\n",
    "- Notebooks, Kernels and Virtual Environments"
   ]
  },
  {
   "cell_type": "markdown",
   "metadata": {
    "slideshow": {
     "slide_type": "slide"
    }
   },
   "source": [
    "# Getting \"Help\" Documentation in Python"
   ]
  },
  {
   "cell_type": "code",
   "execution_count": 1,
   "metadata": {
    "scrolled": true,
    "slideshow": {
     "slide_type": "fragment"
    }
   },
   "outputs": [
    {
     "name": "stdout",
     "output_type": "stream",
     "text": [
      "Help on built-in function print in module builtins:\n",
      "\n",
      "print(...)\n",
      "    print(value, ..., sep=' ', end='\\n', file=sys.stdout, flush=False)\n",
      "    \n",
      "    Prints the values to a stream, or to sys.stdout by default.\n",
      "    Optional keyword arguments:\n",
      "    file:  a file-like object (stream); defaults to the current sys.stdout.\n",
      "    sep:   string inserted between values, default a space.\n",
      "    end:   string appended after the last value, default a newline.\n",
      "    flush: whether to forcibly flush the stream.\n",
      "\n"
     ]
    }
   ],
   "source": [
    "help(print)"
   ]
  },
  {
   "cell_type": "markdown",
   "metadata": {},
   "source": [
    "# Class note\n",
    "## help (Function) ==> it gives you the documentation of the function and its arguments\n",
    "## help (numpy) ==> it gives you the documentation of the numpy library\n",
    "## use print? to get the source code of the function and indicate what function it is\n",
    "## use print?? to get the source code of the function and indicate what function it is and what it does"
   ]
  },
  {
   "cell_type": "markdown",
   "metadata": {
    "slideshow": {
     "slide_type": "fragment"
    }
   },
   "source": [
    "Also, in ipython/jupyter:\n",
    "\n",
    "```terminal\n",
    "print?            # show docstring\n",
    "print??           # show code as well\n",
    "print([SHIFT+TAB] # get help in a popup\n",
    "```"
   ]
  },
  {
   "cell_type": "markdown",
   "metadata": {
    "slideshow": {
     "slide_type": "slide"
    }
   },
   "source": [
    "# Python (Review?)\n",
    "\n",
    "- Whitespace Formatting\n",
    "- Dynamic Typing\n",
    "- Basic Data Types\n",
    "- Functions\n",
    "- String Formatting\n",
    "- Exceptions and Try-Except\n",
    "- Truthiness\n",
    "- Comparisons and Logical Operators\n",
    "- Control Flow\n",
    "- Assert\n",
    "- Sorting\n",
    "- List/Dict Comprehensions\n",
    "- Importing Modules\n",
    "- collections Module\n",
    "- Object Oriented Programming"
   ]
  },
  {
   "cell_type": "markdown",
   "metadata": {
    "slideshow": {
     "slide_type": "slide"
    }
   },
   "source": [
    "# Whitespace Formatting\n",
    "\n",
    "- Instead of braces or brackets to delimit blocks, use whitespace\n",
    "\n",
    "```python\n",
    "# The pound sign marks the start of a comment. Python itself\n",
    "# ignores the comments, but they're helpful for anyone reading the code.\n",
    "for i in [1, 2, 3, 4, 5]:\n",
    "    print(i)                    # first line in \"for i\" block\n",
    "    \n",
    "    for j in [1, 2, 3, 4, 5]:\n",
    "        \n",
    "        print(j)                # first line in \"for j\" block\n",
    "        print(i + j)            # last line in \"for j\" block\n",
    "    print(i)                    # last line in \"for i\" block\n",
    "print(\"done looping\")\n",
    "```\n",
    "<br>\n",
    "\n",
    "- 4 space indentations are conventional\n",
    "- Style Guide : PEP 8 (https://www.python.org/dev/peps/pep-0008/)"
   ]
  },
  {
   "cell_type": "markdown",
   "metadata": {
    "slideshow": {
     "slide_type": "slide"
    }
   },
   "source": [
    "# Dynamic Typing\n",
    "\n",
    "- don't need to specify type at variable creation (though they'll get one at runtime)"
   ]
  },
  {
   "cell_type": "code",
   "execution_count": 128,
   "metadata": {
    "slideshow": {
     "slide_type": "fragment"
    }
   },
   "outputs": [
    {
     "data": {
      "text/plain": [
       "'apple'"
      ]
     },
     "execution_count": 128,
     "metadata": {},
     "output_type": "execute_result"
    }
   ],
   "source": [
    "x = 3\n",
    "x = 3.14\n",
    "x = 'apple'\n",
    "x"
   ]
  },
  {
   "cell_type": "markdown",
   "metadata": {},
   "source": [
    "# Class note\n",
    "## python will infer the last line of a code block as the output if it is not explicitly printed.\n",
    "## we need to specify the output variable if we want to capture the output of a code block such as assigning x, y, z."
   ]
  },
  {
   "cell_type": "code",
   "execution_count": 129,
   "metadata": {
    "slideshow": {
     "slide_type": "fragment"
    }
   },
   "outputs": [
    {
     "data": {
      "text/plain": [
       "str"
      ]
     },
     "execution_count": 129,
     "metadata": {},
     "output_type": "execute_result"
    }
   ],
   "source": [
    "# to determine the current variable type\n",
    "type(x)"
   ]
  },
  {
   "cell_type": "markdown",
   "metadata": {
    "slideshow": {
     "slide_type": "slide"
    }
   },
   "source": [
    "# Basic Python Data Types\n",
    "\n",
    "- **int** (integer): `42`\n",
    "\n",
    "- **float** : `4.2`, `4e2`\n",
    "\n",
    "- **bool** (boolean): `True`, `False`\n",
    "\n",
    "- **str** (string) : `'num 42'`, `\"num 42\"`,\\\n",
    "`\"\"\"multi-line\n",
    "string\"\"\"`\n",
    "\n",
    "- **None** (null): `None`\n",
    "<br>\n",
    "\n",
    "- also `long`, `complex`, `bytes`, etc."
   ]
  },
  {
   "cell_type": "markdown",
   "metadata": {
    "slideshow": {
     "slide_type": "slide"
    }
   },
   "source": [
    "# Functions"
   ]
  },
  {
   "cell_type": "code",
   "execution_count": 130,
   "metadata": {
    "slideshow": {
     "slide_type": "fragment"
    }
   },
   "outputs": [
    {
     "data": {
      "text/plain": [
       "4"
      ]
     },
     "execution_count": 130,
     "metadata": {},
     "output_type": "execute_result"
    }
   ],
   "source": [
    "def add_two(x):\n",
    "    \"\"\"Adds 2 to the number passed in.\"\"\"\n",
    "    return x+2\n",
    "\n",
    "\n",
    "add_two(2)"
   ]
  },
  {
   "cell_type": "code",
   "execution_count": 131,
   "metadata": {
    "scrolled": true,
    "slideshow": {
     "slide_type": "fragment"
    }
   },
   "outputs": [
    {
     "name": "stdout",
     "output_type": "stream",
     "text": [
      "Help on function add_two in module __main__:\n",
      "\n",
      "add_two(x)\n",
      "    Adds 2 to the number passed in.\n",
      "\n"
     ]
    }
   ],
   "source": [
    "help(add_two)"
   ]
  },
  {
   "cell_type": "markdown",
   "metadata": {
    "slideshow": {
     "slide_type": "fragment"
    }
   },
   "source": [
    "Reminder, also in ipython/jupyter:\n",
    "\n",
    "  - `add_two?            # show docstring`\n",
    "  - `add_two??           # show code as well`\n",
    "  - `add_two([SHIFT+TAB] # get help in a popup`"
   ]
  },
  {
   "cell_type": "markdown",
   "metadata": {
    "slideshow": {
     "slide_type": "slide"
    }
   },
   "source": [
    "# Function Arguments"
   ]
  },
  {
   "cell_type": "markdown",
   "metadata": {
    "slideshow": {
     "slide_type": "fragment"
    }
   },
   "source": [
    "- **positional arguments** must be entered in order"
   ]
  },
  {
   "cell_type": "code",
   "execution_count": 132,
   "metadata": {
    "slideshow": {
     "slide_type": "fragment"
    }
   },
   "outputs": [
    {
     "data": {
      "text/plain": [
       "2"
      ]
     },
     "execution_count": 132,
     "metadata": {},
     "output_type": "execute_result"
    }
   ],
   "source": [
    "def subtract(x,y):\n",
    "    return x-y\n",
    "\n",
    "subtract(3,1)"
   ]
  },
  {
   "cell_type": "markdown",
   "metadata": {
    "slideshow": {
     "slide_type": "fragment"
    }
   },
   "source": [
    "- **keyword arguments** must follow positional \n",
    "- can be called in any order"
   ]
  },
  {
   "cell_type": "code",
   "execution_count": 133,
   "metadata": {
    "slideshow": {
     "slide_type": "fragment"
    }
   },
   "outputs": [
    {
     "data": {
      "text/plain": [
       "0.67"
      ]
     },
     "execution_count": 133,
     "metadata": {},
     "output_type": "execute_result"
    }
   ],
   "source": [
    "def proportion(numer,denom,precision=2):\n",
    "    return round(numer/denom,precision)\n",
    "\n",
    "proportion(2,precision=2,denom=3)"
   ]
  },
  {
   "cell_type": "markdown",
   "metadata": {},
   "source": [
    "# class note\n",
    "## positional arguments must be followed by keyword arguments: def func(a, b, c=0, d=1): where a, b are positional arguments and c, d are keyword arguments with default values."
   ]
  },
  {
   "cell_type": "markdown",
   "metadata": {
    "slideshow": {
     "slide_type": "slide"
    }
   },
   "source": [
    "# String Formatting"
   ]
  },
  {
   "cell_type": "code",
   "execution_count": 134,
   "metadata": {
    "slideshow": {
     "slide_type": "fragment"
    }
   },
   "outputs": [
    {
     "data": {
      "text/plain": [
       "'the value of x is 3.1415'"
      ]
     },
     "execution_count": 134,
     "metadata": {},
     "output_type": "execute_result"
    }
   ],
   "source": [
    "x = 3.1415\n",
    "\n",
    "# str(x) will convert the value of x to a string\n",
    "\n",
    "'the value of x is ' + str(x)"
   ]
  },
  {
   "cell_type": "code",
   "execution_count": 135,
   "metadata": {
    "slideshow": {
     "slide_type": "fragment"
    }
   },
   "outputs": [
    {
     "data": {
      "text/plain": [
       "'the value of x is 3.14'"
      ]
     },
     "execution_count": 135,
     "metadata": {},
     "output_type": "execute_result"
    }
   ],
   "source": [
    "'the value of x is %0.2f' % x\n",
    "\n",
    "# %0.2f is a format specifier that formats the value of x as a float with 2 decimal places."
   ]
  },
  {
   "cell_type": "code",
   "execution_count": 136,
   "metadata": {
    "slideshow": {
     "slide_type": "fragment"
    }
   },
   "outputs": [
    {
     "data": {
      "text/plain": [
       "'the value of x is 3.1415000000 and not 10'"
      ]
     },
     "execution_count": 136,
     "metadata": {},
     "output_type": "execute_result"
    }
   ],
   "source": [
    "'the value of x is {:0.10f} and not {}'.format(x, 10)\n",
    "\n",
    "# {:0.10f} formats the float x with 10 decimal places and pads it with zeros on the left if necessary.\n",
    "# format(x, 10) indicates that the second argument is not a format specifier, but a second argument to be inserted into the string."
   ]
  },
  {
   "cell_type": "code",
   "execution_count": 137,
   "metadata": {
    "slideshow": {
     "slide_type": "fragment"
    }
   },
   "outputs": [
    {
     "data": {
      "text/plain": [
       "'the value of x is 3.14'"
      ]
     },
     "execution_count": 137,
     "metadata": {},
     "output_type": "execute_result"
    }
   ],
   "source": [
    "f'the value of x is {x:0.2f}'\n",
    "# note: f-string is a literal string, prefixed with 'f', which contains expressions inside braces.\n",
    "# f'expression + {numerical expression}' => use f'' string format to insert the numerical expression into the string."
   ]
  },
  {
   "cell_type": "markdown",
   "metadata": {
    "slideshow": {
     "slide_type": "fragment"
    }
   },
   "source": [
    "- often want to print variable values for debugging"
   ]
  },
  {
   "cell_type": "code",
   "execution_count": 138,
   "metadata": {
    "slideshow": {
     "slide_type": "fragment"
    }
   },
   "outputs": [
    {
     "data": {
      "text/plain": [
       "'x = 3.14'"
      ]
     },
     "execution_count": 138,
     "metadata": {},
     "output_type": "execute_result"
    }
   ],
   "source": [
    "f'x = {x:0.2f}'"
   ]
  },
  {
   "cell_type": "code",
   "execution_count": 139,
   "metadata": {
    "slideshow": {
     "slide_type": "fragment"
    }
   },
   "outputs": [
    {
     "data": {
      "text/plain": [
       "'x = 3.14'"
      ]
     },
     "execution_count": 139,
     "metadata": {},
     "output_type": "execute_result"
    }
   ],
   "source": [
    "f'{x = :0.2f}' # new in python3.8"
   ]
  },
  {
   "cell_type": "markdown",
   "metadata": {
    "slideshow": {
     "slide_type": "slide"
    }
   },
   "source": [
    "# String Formatting Cont."
   ]
  },
  {
   "cell_type": "code",
   "execution_count": 140,
   "metadata": {
    "slideshow": {
     "slide_type": "fragment"
    }
   },
   "outputs": [
    {
     "data": {
      "text/plain": [
       "'This is a multiline string.\\nThe value of x is 3.1415.'"
      ]
     },
     "execution_count": 140,
     "metadata": {},
     "output_type": "execute_result"
    }
   ],
   "source": [
    "\"\"\"This is a multiline string.\n",
    "The value of x is {}.\"\"\".format(x)\n",
    "\n",
    "# /n indicates the original line should be continued on the next line."
   ]
  },
  {
   "cell_type": "code",
   "execution_count": 141,
   "metadata": {
    "slideshow": {
     "slide_type": "fragment"
    }
   },
   "outputs": [
    {
     "name": "stdout",
     "output_type": "stream",
     "text": [
      "This is a multiline string.\n",
      "The value of x is 3.1415.\n"
     ]
    }
   ],
   "source": [
    "print(\"\"\"This is a multiline string.\n",
    "The value of x is {}.\"\"\".format(x))\n",
    "\n",
    "# add print statement can return more systematic format into 2 lines of output"
   ]
  },
  {
   "cell_type": "markdown",
   "metadata": {
    "slideshow": {
     "slide_type": "fragment"
    }
   },
   "source": [
    "- to learn more https://realpython.com/python-string-formatting/"
   ]
  },
  {
   "cell_type": "markdown",
   "metadata": {
    "slideshow": {
     "slide_type": "slide"
    }
   },
   "source": [
    "# Python Data Types Continued: `list`"
   ]
  },
  {
   "cell_type": "code",
   "execution_count": 142,
   "metadata": {
    "slideshow": {
     "slide_type": "fragment"
    }
   },
   "outputs": [
    {
     "data": {
      "text/plain": [
       "[42, 'e', 2.0]"
      ]
     },
     "execution_count": 142,
     "metadata": {},
     "output_type": "execute_result"
    }
   ],
   "source": [
    "# elements of a python list do not all have to be of the same type\n",
    "x = [42,'e',2.0]\n",
    "x"
   ]
  },
  {
   "cell_type": "code",
   "execution_count": 143,
   "metadata": {
    "scrolled": true,
    "slideshow": {
     "slide_type": "fragment"
    }
   },
   "outputs": [
    {
     "data": {
      "text/plain": [
       "42"
      ]
     },
     "execution_count": 143,
     "metadata": {},
     "output_type": "execute_result"
    }
   ],
   "source": [
    "x[0] # indexing\n",
    "\n",
    "# [0] is the first element of the array x."
   ]
  },
  {
   "cell_type": "code",
   "execution_count": 144,
   "metadata": {
    "slideshow": {
     "slide_type": "fragment"
    }
   },
   "outputs": [
    {
     "data": {
      "text/plain": [
       "2.0"
      ]
     },
     "execution_count": 144,
     "metadata": {},
     "output_type": "execute_result"
    }
   ],
   "source": [
    "x[-1] # reverse indexing\n",
    "\n",
    "# [-1] means the last element of the array."
   ]
  },
  {
   "cell_type": "code",
   "execution_count": 145,
   "metadata": {
    "slideshow": {
     "slide_type": "fragment"
    }
   },
   "outputs": [
    {
     "data": {
      "text/plain": [
       "[42, 'e', 4]"
      ]
     },
     "execution_count": 145,
     "metadata": {},
     "output_type": "execute_result"
    }
   ],
   "source": [
    "x[2] = 4 # assignment\n",
    "x\n",
    "\n",
    "# x[index] = value => value change in the list at the specified index"
   ]
  },
  {
   "cell_type": "code",
   "execution_count": 146,
   "metadata": {
    "slideshow": {
     "slide_type": "fragment"
    }
   },
   "outputs": [
    {
     "data": {
      "text/plain": [
       "[42, 'e', 4, 'a']"
      ]
     },
     "execution_count": 146,
     "metadata": {},
     "output_type": "execute_result"
    }
   ],
   "source": [
    "x.append('a') # add a value to list\n",
    "x\n",
    "\n",
    "# list.append(\"number / string / boolean\") indicates the method to add a value to the end of the list."
   ]
  },
  {
   "cell_type": "code",
   "execution_count": 147,
   "metadata": {
    "slideshow": {
     "slide_type": "fragment"
    }
   },
   "outputs": [
    {
     "data": {
      "text/plain": [
       "[42, 4, 'a']"
      ]
     },
     "execution_count": 147,
     "metadata": {},
     "output_type": "execute_result"
    }
   ],
   "source": [
    "value_at_1 = x.pop(1) # remove/delete at index\n",
    "x\n",
    "\n",
    "# list.pop(index) indicates the index of the element to be removed and returns the value of the removed element."
   ]
  },
  {
   "cell_type": "markdown",
   "metadata": {
    "slideshow": {
     "slide_type": "slide"
    }
   },
   "source": [
    "# Python Data Types Continued: `dict` (Dictionary)\n"
   ]
  },
  {
   "cell_type": "markdown",
   "metadata": {},
   "source": [
    "- Stores key:value pairs"
   ]
  },
  {
   "cell_type": "code",
   "execution_count": 148,
   "metadata": {
    "slideshow": {
     "slide_type": "fragment"
    }
   },
   "outputs": [
    {
     "data": {
      "text/plain": [
       "{'b': [2, 1], 'a': 1, 'c': 4}"
      ]
     },
     "execution_count": 148,
     "metadata": {},
     "output_type": "execute_result"
    }
   ],
   "source": [
    "x = {'b':[2,1],'a':1,'c':4} \n",
    "# or x = dict(b=2,a=1,c=4)\n",
    "x\n",
    "\n",
    "# dict format use {key: value}, where key is a string and value can be any type of object and value can a list of objects and a single value"
   ]
  },
  {
   "cell_type": "code",
   "execution_count": 149,
   "metadata": {
    "slideshow": {
     "slide_type": "fragment"
    }
   },
   "outputs": [
    {
     "data": {
      "text/plain": [
       "[2, 1]"
      ]
     },
     "execution_count": 149,
     "metadata": {},
     "output_type": "execute_result"
    }
   ],
   "source": [
    "# index into dictionary using key\n",
    "x['b'] \n",
    "\n",
    "# x['key'] indicates the 'key' plays as an index to access the value in the dictionary x."
   ]
  },
  {
   "cell_type": "code",
   "execution_count": 150,
   "metadata": {
    "slideshow": {
     "slide_type": "fragment"
    }
   },
   "outputs": [
    {
     "data": {
      "text/plain": [
       "{'b': [2, 1], 'a': 1, 'c': 4, 'd': 3}"
      ]
     },
     "execution_count": 150,
     "metadata": {},
     "output_type": "execute_result"
    }
   ],
   "source": [
    "# assign a value to a (new or existing) key\n",
    "x['d'] = 3 \n",
    "x\n",
    "\n",
    "# x['new_key'] = new_value => assign a new key and value to the dictionary x"
   ]
  },
  {
   "cell_type": "code",
   "execution_count": 151,
   "metadata": {
    "scrolled": true,
    "slideshow": {
     "slide_type": "fragment"
    }
   },
   "outputs": [],
   "source": [
    "# remove/delete\n",
    "# can specify a return a value if key does not exist (here it's None), otherwise throws an exception\n",
    "x.pop('eods', None) \n",
    "\n",
    "# dic.pop(del_key, default_value) indicates that if the key del_key is not in the dictionary, return default_value instead of raising a KeyError.\n",
    "## Here, since 'eods' is not in the dictionary, it will return None and present the dictionary without 'eods' key."
   ]
  },
  {
   "cell_type": "code",
   "execution_count": 152,
   "metadata": {
    "slideshow": {
     "slide_type": "fragment"
    }
   },
   "outputs": [
    {
     "data": {
      "text/plain": [
       "{'b': [2, 1], 'a': 1, 'c': 4, 'd': 3}"
      ]
     },
     "execution_count": 152,
     "metadata": {},
     "output_type": "execute_result"
    }
   ],
   "source": [
    "x"
   ]
  },
  {
   "cell_type": "code",
   "execution_count": 153,
   "metadata": {
    "slideshow": {
     "slide_type": "fragment"
    }
   },
   "outputs": [
    {
     "data": {
      "text/plain": [
       "3"
      ]
     },
     "execution_count": 153,
     "metadata": {},
     "output_type": "execute_result"
    }
   ],
   "source": [
    "x.pop('d', None)\n",
    "\n",
    "# dict.pop(key, default=None) indicates that if the key is not found in the dictionary, it will return the default value (None in this case).\n",
    "# However, if the key is found, the value associated with the key will be removed from the dictionary and returned."
   ]
  },
  {
   "cell_type": "markdown",
   "metadata": {
    "slideshow": {
     "slide_type": "slide"
    }
   },
   "source": [
    "# Python Data Types Continued: `dict` Cont.\n"
   ]
  },
  {
   "cell_type": "code",
   "execution_count": 154,
   "metadata": {
    "slideshow": {
     "slide_type": "fragment"
    }
   },
   "outputs": [
    {
     "data": {
      "text/plain": [
       "{'b': [2, 1], 'a': 1, 'c': 4}"
      ]
     },
     "execution_count": 154,
     "metadata": {},
     "output_type": "execute_result"
    }
   ],
   "source": [
    "# using the same dictionary\n",
    "x"
   ]
  },
  {
   "cell_type": "code",
   "execution_count": 155,
   "metadata": {
    "slideshow": {
     "slide_type": "fragment"
    }
   },
   "outputs": [
    {
     "data": {
      "text/plain": [
       "dict_keys(['b', 'a', 'c'])"
      ]
     },
     "execution_count": 155,
     "metadata": {},
     "output_type": "execute_result"
    }
   ],
   "source": [
    "# get a set of keys\n",
    "x.keys()\n",
    "\n",
    "# dict.key() => it returns the keys in the dictionary"
   ]
  },
  {
   "cell_type": "code",
   "execution_count": 156,
   "metadata": {
    "slideshow": {
     "slide_type": "fragment"
    }
   },
   "outputs": [
    {
     "data": {
      "text/plain": [
       "dict_values([[2, 1], 1, 4])"
      ]
     },
     "execution_count": 156,
     "metadata": {},
     "output_type": "execute_result"
    }
   ],
   "source": [
    "# get a set of values\n",
    "x.values()\n",
    "\n",
    "# dict.values() => it returns the values in the dictionary"
   ]
  },
  {
   "cell_type": "code",
   "execution_count": 157,
   "metadata": {
    "slideshow": {
     "slide_type": "fragment"
    }
   },
   "outputs": [
    {
     "data": {
      "text/plain": [
       "dict_items([('b', [2, 1]), ('a', 1), ('c', 4)])"
      ]
     },
     "execution_count": 157,
     "metadata": {},
     "output_type": "execute_result"
    }
   ],
   "source": [
    "# get a set of (key,value) tuples\n",
    "x.items()\n",
    "\n",
    "# dict.items() => returns a view object that contains all the (key,value) tuples in the dictionary."
   ]
  },
  {
   "cell_type": "code",
   "execution_count": 158,
   "metadata": {
    "slideshow": {
     "slide_type": "fragment"
    }
   },
   "outputs": [
    {
     "data": {
      "text/plain": [
       "[('b', [2, 1]), ('a', 1), ('c', 4)]"
      ]
     },
     "execution_count": 158,
     "metadata": {},
     "output_type": "execute_result"
    }
   ],
   "source": [
    "# get a list of (key,value) pairs\n",
    "list(x.items())\n",
    "\n",
    "# list(dict.items()) => it convert the dict into a list of (key,value) pairs"
   ]
  },
  {
   "cell_type": "code",
   "execution_count": 159,
   "metadata": {},
   "outputs": [
    {
     "data": {
      "text/plain": [
       "90"
      ]
     },
     "execution_count": 159,
     "metadata": {},
     "output_type": "execute_result"
    }
   ],
   "source": [
    "# create dict of mid-term and final grades\n",
    "grades = {'a': [90, 100], 'b': [80, 90], 'c': [70, 80], 'd': [60, 70], 'f': [0, 60]}\n",
    "\n",
    "# query the grades dictionary for the mid-term grades of student 'a'\n",
    "grades['a'][0]  # 90\n",
    "# grades['a'] indicates I need to values according to the mid-term and final grades of student 'a'\n",
    "# use [0] indicates I want to know the mid-term grade of student 'a'"
   ]
  },
  {
   "cell_type": "code",
   "execution_count": 160,
   "metadata": {},
   "outputs": [
    {
     "data": {
      "text/plain": [
       "100"
      ]
     },
     "execution_count": 160,
     "metadata": {},
     "output_type": "execute_result"
    }
   ],
   "source": [
    "# what if we embed dicts inside the dict?\n",
    "\n",
    "grades = {\"a\": {90: 100},\"b\": {80: 90}, \"c\": {70: 80}, \"d\": {60: 70}, \"f\": {0: 60}}\n",
    "\n",
    "# query the final grade for \"a\"\n",
    "grades[\"a\"][90] # output: 100\n",
    "\n",
    "# this time, grades[\"a\"] induces the dict {90: 100} as value\n",
    "# [90] plays a key indexing to access the value 100"
   ]
  },
  {
   "cell_type": "code",
   "execution_count": 161,
   "metadata": {},
   "outputs": [
    {
     "data": {
      "text/plain": [
       "{90: 100}"
      ]
     },
     "execution_count": 161,
     "metadata": {},
     "output_type": "execute_result"
    }
   ],
   "source": [
    "grades.pop('a', None)\n",
    "# we want to delete the key 'a' from the dictionary if it exists, but if it doesn't exist, we don't want to raise an error."
   ]
  },
  {
   "cell_type": "code",
   "execution_count": 162,
   "metadata": {},
   "outputs": [
    {
     "data": {
      "text/plain": [
       "{'b': {80: 90}, 'c': {70: 80}, 'd': {60: 70}, 'f': {0: 60}}"
      ]
     },
     "execution_count": 162,
     "metadata": {},
     "output_type": "execute_result"
    }
   ],
   "source": [
    "grades"
   ]
  },
  {
   "cell_type": "markdown",
   "metadata": {
    "slideshow": {
     "slide_type": "slide"
    }
   },
   "source": [
    "# Python Data Types Continued: `tuple`\n",
    "\n",
    "- like a list, but **immutable**"
   ]
  },
  {
   "cell_type": "code",
   "execution_count": 163,
   "metadata": {
    "slideshow": {
     "slide_type": "fragment"
    }
   },
   "outputs": [
    {
     "data": {
      "text/plain": [
       "(2, 'e', 3, 4)"
      ]
     },
     "execution_count": 163,
     "metadata": {},
     "output_type": "execute_result"
    }
   ],
   "source": [
    "x = (2,'e',3,4)\n",
    "x\n",
    "\n",
    "# inside the tuple, you cannot either change the value of the elements nor add or remove elements from the tuple."
   ]
  },
  {
   "cell_type": "code",
   "execution_count": 164,
   "metadata": {
    "slideshow": {
     "slide_type": "fragment"
    }
   },
   "outputs": [
    {
     "data": {
      "text/plain": [
       "2"
      ]
     },
     "execution_count": 164,
     "metadata": {},
     "output_type": "execute_result"
    }
   ],
   "source": [
    "x[0] # indexing\n",
    "\n",
    "# tuple indexing is like list indexing, but with parentheses instead of square brackets"
   ]
  },
  {
   "cell_type": "code",
   "execution_count": 165,
   "metadata": {
    "scrolled": true,
    "slideshow": {
     "slide_type": "fragment"
    }
   },
   "outputs": [
    {
     "ename": "TypeError",
     "evalue": "'tuple' object does not support item assignment",
     "output_type": "error",
     "traceback": [
      "\u001b[0;31m---------------------------------------------------------------------------\u001b[0m",
      "\u001b[0;31mTypeError\u001b[0m                                 Traceback (most recent call last)",
      "Cell \u001b[0;32mIn[165], line 1\u001b[0m\n\u001b[0;32m----> 1\u001b[0m \u001b[43mx\u001b[49m\u001b[43m[\u001b[49m\u001b[38;5;241;43m0\u001b[39;49m\u001b[43m]\u001b[49m \u001b[38;5;241m=\u001b[39m \u001b[38;5;241m3\u001b[39m \u001b[38;5;66;03m# assignment? Nope, error: immutable`\u001b[39;00m\n\u001b[1;32m      3\u001b[0m \u001b[38;5;66;03m# tuple cannot be modified\u001b[39;00m\n",
      "\u001b[0;31mTypeError\u001b[0m: 'tuple' object does not support item assignment"
     ]
    }
   ],
   "source": [
    "x[0] = 3 # assignment? Nope, error: immutable`\n",
    "\n",
    "# tuple cannot be modified"
   ]
  },
  {
   "cell_type": "code",
   "execution_count": 63,
   "metadata": {},
   "outputs": [
    {
     "ename": "AttributeError",
     "evalue": "'tuple' object has no attribute 'remove'",
     "output_type": "error",
     "traceback": [
      "\u001b[0;31m---------------------------------------------------------------------------\u001b[0m",
      "\u001b[0;31mAttributeError\u001b[0m                            Traceback (most recent call last)",
      "Cell \u001b[0;32mIn[63], line 3\u001b[0m\n\u001b[1;32m      1\u001b[0m \u001b[38;5;66;03m# we cannot add or remove the element from tuple using the pop() method.\u001b[39;00m\n\u001b[0;32m----> 3\u001b[0m \u001b[43mx\u001b[49m\u001b[38;5;241;43m.\u001b[39;49m\u001b[43mremove\u001b[49m(\u001b[38;5;241m2\u001b[39m)\n\u001b[1;32m      4\u001b[0m \u001b[38;5;28mprint\u001b[39m(x)\n",
      "\u001b[0;31mAttributeError\u001b[0m: 'tuple' object has no attribute 'remove'"
     ]
    }
   ],
   "source": [
    "# we cannot add or remove the element from tuple using the pop() method.\n",
    "\n",
    "x.remove(2)\n",
    "print(x)"
   ]
  },
  {
   "cell_type": "code",
   "execution_count": 64,
   "metadata": {},
   "outputs": [
    {
     "name": "stdout",
     "output_type": "stream",
     "text": [
      "(1, 2, [10, 12])\n"
     ]
    }
   ],
   "source": [
    "# tuple with list inside\n",
    "a = (1,2,[10,12])\n",
    "print(a)"
   ]
  },
  {
   "cell_type": "code",
   "execution_count": 65,
   "metadata": {},
   "outputs": [
    {
     "name": "stdout",
     "output_type": "stream",
     "text": [
      "(1, 2, [15, 12])\n"
     ]
    }
   ],
   "source": [
    "# we can modify the elements inside the list even if it is in the tuple\n",
    "\n",
    "a[2][0] =15 # modify the first element of the second list in the tuple\n",
    "\n",
    "# a[2] will induce the second list in the tuple [10, 12]\n",
    "# a[2][0] means we want to change the first element inside the list to be 15\n",
    "\n",
    "print (a)"
   ]
  },
  {
   "cell_type": "code",
   "execution_count": 58,
   "metadata": {},
   "outputs": [],
   "source": [
    "# we can also add or remove any value inside the list by appending or removing elements from the list inside the tuple.\n",
    "a[2].append(10)\n"
   ]
  },
  {
   "cell_type": "code",
   "execution_count": 59,
   "metadata": {},
   "outputs": [
    {
     "data": {
      "text/plain": [
       "(1, 2, [15, 12, 10])"
      ]
     },
     "execution_count": 59,
     "metadata": {},
     "output_type": "execute_result"
    }
   ],
   "source": [
    "a"
   ]
  },
  {
   "cell_type": "code",
   "execution_count": 73,
   "metadata": {},
   "outputs": [
    {
     "data": {
      "text/plain": [
       "(2, 'e', 3, 4)"
      ]
     },
     "execution_count": 73,
     "metadata": {},
     "output_type": "execute_result"
    }
   ],
   "source": [
    "# If there is tuple inside the list, we can add and remove the tuple but cannot change the element inside the tuple.\n",
    "\n",
    "b = [1, (2,'e',3,4), 8, 9]\n",
    "b.pop(1) # remove the tuple (2,'e',3,4)\n",
    "\n",
    "# b.pop(1) induce the second element of the list to be removed, which is the tuple (2,'e',3,4)\n",
    "# it returns the tuple to be removed"
   ]
  },
  {
   "cell_type": "code",
   "execution_count": 74,
   "metadata": {},
   "outputs": [
    {
     "name": "stdout",
     "output_type": "stream",
     "text": [
      "[1, 8, 9, (10, 11)]\n"
     ]
    }
   ],
   "source": [
    "b.append((10,11)) # add a tuple (10,11) to the list\n",
    "print(b)"
   ]
  },
  {
   "cell_type": "markdown",
   "metadata": {
    "slideshow": {
     "slide_type": "slide"
    }
   },
   "source": [
    "# Python Data Types Continued: `set`\n",
    "\n",
    "## Set is the **collection of unique elements in Python**. It is an unordered collection of elements that can be of any data type. Sets are useful for performing mathematical operations like union, intersection, and difference."
   ]
  },
  {
   "cell_type": "code",
   "execution_count": 75,
   "metadata": {},
   "outputs": [],
   "source": [
    "lst = [1,1,1,1,1,1,5,5,'Jack']\n",
    "lst = list(set(lst))\n",
    "\n",
    "# set(lst): using set() method, we can remove all the duplicates from the list.\n",
    "# list(set(lst)): convert the set back to a list."
   ]
  },
  {
   "cell_type": "code",
   "execution_count": 77,
   "metadata": {},
   "outputs": [
    {
     "data": {
      "text/plain": [
       "['Jack', 1, 5]"
      ]
     },
     "execution_count": 77,
     "metadata": {},
     "output_type": "execute_result"
    }
   ],
   "source": [
    "lst"
   ]
  },
  {
   "cell_type": "code",
   "execution_count": 78,
   "metadata": {
    "scrolled": true,
    "slideshow": {
     "slide_type": "fragment"
    }
   },
   "outputs": [
    {
     "data": {
      "text/plain": [
       "{2, 'e'}"
      ]
     },
     "execution_count": 78,
     "metadata": {},
     "output_type": "execute_result"
    }
   ],
   "source": [
    "# set expression\n",
    "x = {2,'e','e'} # or set([2,'e','e'])\n",
    "x"
   ]
  },
  {
   "cell_type": "code",
   "execution_count": 79,
   "metadata": {
    "scrolled": true,
    "slideshow": {
     "slide_type": "fragment"
    }
   },
   "outputs": [
    {
     "data": {
      "text/plain": [
       "{1, 2, 'e'}"
      ]
     },
     "execution_count": 79,
     "metadata": {},
     "output_type": "execute_result"
    }
   ],
   "source": [
    "# we can insert a new element into the set using the add() method.\n",
    "x.add(1) # insert\n",
    "x"
   ]
  },
  {
   "cell_type": "code",
   "execution_count": 80,
   "metadata": {
    "slideshow": {
     "slide_type": "fragment"
    }
   },
   "outputs": [
    {
     "data": {
      "text/plain": [
       "{1, 2}"
      ]
     },
     "execution_count": 80,
     "metadata": {},
     "output_type": "execute_result"
    }
   ],
   "source": [
    "# we can also remove the element from the list using the remove() method.\n",
    "x.remove('e') # remove/delete\n",
    "x"
   ]
  },
  {
   "cell_type": "code",
   "execution_count": 81,
   "metadata": {
    "slideshow": {
     "slide_type": "fragment"
    }
   },
   "outputs": [
    {
     "data": {
      "text/plain": [
       "{2}"
      ]
     },
     "execution_count": 81,
     "metadata": {},
     "output_type": "execute_result"
    }
   ],
   "source": [
    "# set operation: intersection\n",
    "x.intersection({2,3})\n",
    "# it means that we want to take the intersection of set x and set {2,3}\n",
    "# set x is {1,2}"
   ]
  },
  {
   "cell_type": "code",
   "execution_count": 82,
   "metadata": {
    "slideshow": {
     "slide_type": "fragment"
    }
   },
   "outputs": [
    {
     "data": {
      "text/plain": [
       "{1}"
      ]
     },
     "execution_count": 82,
     "metadata": {},
     "output_type": "execute_result"
    }
   ],
   "source": [
    "# set operation: difference\n",
    "x.difference({2,3})\n",
    "# we want to find the elements in set x that are not in set {2,3}\n",
    "# set x is {1,2} and {1} is not in set {2,3}"
   ]
  },
  {
   "cell_type": "code",
   "execution_count": 83,
   "metadata": {
    "slideshow": {
     "slide_type": "fragment"
    },
    "tags": [
     "raises-exception"
    ]
   },
   "outputs": [
    {
     "ename": "TypeError",
     "evalue": "'set' object is not subscriptable",
     "output_type": "error",
     "traceback": [
      "\u001b[0;31m---------------------------------------------------------------------------\u001b[0m",
      "\u001b[0;31mTypeError\u001b[0m                                 Traceback (most recent call last)",
      "Cell \u001b[0;32mIn[83], line 1\u001b[0m\n\u001b[0;32m----> 1\u001b[0m \u001b[43mx\u001b[49m\u001b[43m[\u001b[49m\u001b[38;5;241;43m0\u001b[39;49m\u001b[43m]\u001b[49m \u001b[38;5;66;03m# cannot index into a set\u001b[39;00m\n",
      "\u001b[0;31mTypeError\u001b[0m: 'set' object is not subscriptable"
     ]
    }
   ],
   "source": [
    "x[0] # cannot index into a set\n",
    "# we cannot treat set as list for indexing"
   ]
  },
  {
   "cell_type": "markdown",
   "metadata": {
    "slideshow": {
     "slide_type": "slide"
    }
   },
   "source": [
    "# Determining Length with `len`"
   ]
  },
  {
   "cell_type": "code",
   "execution_count": 84,
   "metadata": {
    "slideshow": {
     "slide_type": "fragment"
    }
   },
   "outputs": [
    {
     "data": {
      "text/plain": [
       "3"
      ]
     },
     "execution_count": 84,
     "metadata": {},
     "output_type": "execute_result"
    }
   ],
   "source": [
    "len([1,2,3])\n",
    "# len(list) returns the number of elements in the list"
   ]
  },
  {
   "cell_type": "code",
   "execution_count": 85,
   "metadata": {
    "slideshow": {
     "slide_type": "fragment"
    }
   },
   "outputs": [
    {
     "data": {
      "text/plain": [
       "3"
      ]
     },
     "execution_count": 85,
     "metadata": {},
     "output_type": "execute_result"
    }
   ],
   "source": [
    "len({'a':1,'b':2,'c':3})\n",
    "# len(dict) returns the number of key-value pairs in the dictionary."
   ]
  },
  {
   "cell_type": "code",
   "execution_count": 56,
   "metadata": {
    "slideshow": {
     "slide_type": "fragment"
    }
   },
   "outputs": [
    {
     "data": {
      "text/plain": [
       "5"
      ]
     },
     "execution_count": 56,
     "metadata": {},
     "output_type": "execute_result"
    }
   ],
   "source": [
    "len('apple')\n",
    "# len(string) returns the length of the string in characters."
   ]
  },
  {
   "cell_type": "markdown",
   "metadata": {
    "slideshow": {
     "slide_type": "slide"
    }
   },
   "source": [
    "# Exceptions"
   ]
  },
  {
   "cell_type": "code",
   "execution_count": 87,
   "metadata": {
    "slideshow": {
     "slide_type": "fragment"
    },
    "tags": [
     "raises-exception"
    ]
   },
   "outputs": [
    {
     "ename": "TypeError",
     "evalue": "can only concatenate str (not \"int\") to str",
     "output_type": "error",
     "traceback": [
      "\u001b[0;31m---------------------------------------------------------------------------\u001b[0m",
      "\u001b[0;31mTypeError\u001b[0m                                 Traceback (most recent call last)",
      "Cell \u001b[0;32mIn[87], line 1\u001b[0m\n\u001b[0;32m----> 1\u001b[0m \u001b[38;5;124;43m'\u001b[39;49m\u001b[38;5;124;43ma\u001b[39;49m\u001b[38;5;124;43m'\u001b[39;49m\u001b[43m \u001b[49m\u001b[38;5;241;43m+\u001b[39;49m\u001b[43m \u001b[49m\u001b[38;5;241;43m2\u001b[39;49m\n\u001b[1;32m      2\u001b[0m \u001b[38;5;66;03m# since 'a' and 2 are not of the same type, Python will raise a TypeError.\u001b[39;00m\n",
      "\u001b[0;31mTypeError\u001b[0m: can only concatenate str (not \"int\") to str"
     ]
    }
   ],
   "source": [
    "'a' + 2\n",
    "# since 'a' and 2 are not of the same type, Python will raise a TypeError."
   ]
  },
  {
   "cell_type": "markdown",
   "metadata": {
    "slideshow": {
     "slide_type": "fragment"
    }
   },
   "source": [
    "## Common exceptions:\n",
    "- SyntaxError\n",
    "- IndentationError\n",
    "- ValueError\n",
    "- TypeError\n",
    "- IndexError\n",
    "- KeyError\n",
    "- and many more https://docs.python.org/3/library/exceptions.html"
   ]
  },
  {
   "cell_type": "markdown",
   "metadata": {
    "slideshow": {
     "slide_type": "slide"
    }
   },
   "source": [
    "# Catching Exceptions with `try`-`except`"
   ]
  },
  {
   "cell_type": "markdown",
   "metadata": {},
   "source": [
    "## Syntax Error\n",
    "### When Python detects invalid syntax in your code before execution. It is raised when the code cannot be parsed correctly."
   ]
  },
  {
   "cell_type": "code",
   "execution_count": 89,
   "metadata": {},
   "outputs": [
    {
     "name": "stdout",
     "output_type": "stream",
     "text": [
      "There's a syntax error!\n"
     ]
    }
   ],
   "source": [
    "try:\n",
    "    eval('x === y')  # Invalid syntax\n",
    "except SyntaxError:\n",
    "    print(\"There's a syntax error!\")"
   ]
  },
  {
   "cell_type": "markdown",
   "metadata": {},
   "source": [
    "## IndentationError\n",
    "### When there’s an incorrect indentation (e.g., inconsistent use of tabs and spaces or missing indentation)"
   ]
  },
  {
   "cell_type": "code",
   "execution_count": 98,
   "metadata": {},
   "outputs": [],
   "source": [
    "try:\n",
    "    exec('def my_func(): \\nprint(\"Hello\")')  # Missing indentation (it should be \\n print)\n",
    "except IndentationError:\n",
    "    print(\"There is an indentation error!\")"
   ]
  },
  {
   "cell_type": "markdown",
   "metadata": {},
   "source": [
    "## ValueError\n",
    "### When a function receives an argument of the correct type but an invalid value."
   ]
  },
  {
   "cell_type": "code",
   "execution_count": 105,
   "metadata": {},
   "outputs": [
    {
     "name": "stdout",
     "output_type": "stream",
     "text": [
      "There was a ValueError!\n"
     ]
    }
   ],
   "source": [
    "try:\n",
    "    int('abc')  # Cannot convert 'abc' to an integer (it should be int('123'))\n",
    "except ValueError:\n",
    "    print(\"There was a ValueError!\")"
   ]
  },
  {
   "cell_type": "markdown",
   "metadata": {},
   "source": [
    "## TypeError\n",
    "### When an operation or function is applied to an object of inappropriate type."
   ]
  },
  {
   "cell_type": "code",
   "execution_count": 106,
   "metadata": {
    "slideshow": {
     "slide_type": "fragment"
    }
   },
   "outputs": [
    {
     "name": "stdout",
     "output_type": "stream",
     "text": [
      "We did this on purpose, and here's what's wrong:\n",
      "can only concatenate str (not \"int\") to str\n"
     ]
    }
   ],
   "source": [
    "try:\n",
    "    'a' + 2 # Cannot add a string and an integer (it should be 'a' + str(2))\n",
    "except TypeError as e:\n",
    "    print(f\"We did this on purpose, and here's what's wrong:\\n{e}\")"
   ]
  },
  {
   "cell_type": "markdown",
   "metadata": {},
   "source": [
    "## IndexError\n",
    "### when you try to access an index in a list or other sequence that doesn’t exist."
   ]
  },
  {
   "cell_type": "code",
   "execution_count": 107,
   "metadata": {},
   "outputs": [
    {
     "name": "stdout",
     "output_type": "stream",
     "text": [
      "Index out of range!\n"
     ]
    }
   ],
   "source": [
    "try:\n",
    "    my_list = [1, 2, 3]\n",
    "    print(my_list[5])  # Index 5 doesn't exist\n",
    "except IndexError:\n",
    "    print(\"Index out of range!\")"
   ]
  },
  {
   "cell_type": "markdown",
   "metadata": {},
   "source": [
    "## KeyError\n",
    "### when a dictionary key is not found in the dictionary."
   ]
  },
  {
   "cell_type": "code",
   "execution_count": 108,
   "metadata": {},
   "outputs": [
    {
     "name": "stdout",
     "output_type": "stream",
     "text": [
      "Key not found!\n"
     ]
    }
   ],
   "source": [
    "try:\n",
    "    my_dict = {'a': 1, 'b': 2}\n",
    "    print(my_dict['c'])  # 'c' key doesn't exist\n",
    "except KeyError:\n",
    "    print(\"Key not found!\")"
   ]
  },
  {
   "cell_type": "code",
   "execution_count": 109,
   "metadata": {
    "slideshow": {
     "slide_type": "fragment"
    }
   },
   "outputs": [
    {
     "name": "stdout",
     "output_type": "stream",
     "text": [
      "Print this for any other error\n"
     ]
    }
   ],
   "source": [
    "# we can loop through except arguments to catch specific errors\n",
    "try:\n",
    "    set([1,2,3])[0]\n",
    "except SyntaxError as e:\n",
    "    print(f\"Print this if there's a syntax error\")\n",
    "except Exception as e:\n",
    "    print(f\"Print this for any other error\")"
   ]
  },
  {
   "cell_type": "markdown",
   "metadata": {
    "slideshow": {
     "slide_type": "slide"
    }
   },
   "source": [
    "# Truthiness"
   ]
  },
  {
   "cell_type": "markdown",
   "metadata": {
    "slideshow": {
     "slide_type": "fragment"
    }
   },
   "source": [
    "- boolean: `True`, `False`\n",
    "<br>\n",
    "\n",
    "- These all translate to `False`:\n",
    " - `None`\n",
    " - `[]` (empty list)\n",
    " - `{}` (empty dictionary)\n",
    " - `''` (empty string)\n",
    " - `set()`\n",
    " - `0`\n",
    " - `0.0`"
   ]
  },
  {
   "cell_type": "markdown",
   "metadata": {
    "slideshow": {
     "slide_type": "slide"
    }
   },
   "source": [
    "# Comparison Operators"
   ]
  },
  {
   "cell_type": "markdown",
   "metadata": {
    "slideshow": {
     "slide_type": "fragment"
    }
   },
   "source": [
    "- equality: `==`\n",
    "- inequality: `!=`"
   ]
  },
  {
   "cell_type": "code",
   "execution_count": 110,
   "metadata": {
    "slideshow": {
     "slide_type": "fragment"
    }
   },
   "outputs": [
    {
     "data": {
      "text/plain": [
       "True"
      ]
     },
     "execution_count": 110,
     "metadata": {},
     "output_type": "execute_result"
    }
   ],
   "source": [
    "3 == 3 # == indicate the equality"
   ]
  },
  {
   "cell_type": "code",
   "execution_count": 61,
   "metadata": {
    "slideshow": {
     "slide_type": "fragment"
    }
   },
   "outputs": [
    {
     "data": {
      "text/plain": [
       "True"
      ]
     },
     "execution_count": 61,
     "metadata": {},
     "output_type": "execute_result"
    }
   ],
   "source": [
    "3 != 4"
   ]
  },
  {
   "cell_type": "markdown",
   "metadata": {
    "slideshow": {
     "slide_type": "fragment"
    }
   },
   "source": [
    " - less than: `<`\n",
    " - greater than: `>`\n",
    " - '(less than/greater than) or equal to:  `<=` , `>=`"
   ]
  },
  {
   "cell_type": "code",
   "execution_count": 62,
   "metadata": {
    "slideshow": {
     "slide_type": "fragment"
    }
   },
   "outputs": [
    {
     "data": {
      "text/plain": [
       "False"
      ]
     },
     "execution_count": 62,
     "metadata": {},
     "output_type": "execute_result"
    }
   ],
   "source": [
    "3 > 4"
   ]
  },
  {
   "cell_type": "markdown",
   "metadata": {
    "slideshow": {
     "slide_type": "slide"
    }
   },
   "source": [
    "# Logical Operators"
   ]
  },
  {
   "cell_type": "markdown",
   "metadata": {
    "slideshow": {
     "slide_type": "fragment"
    }
   },
   "source": [
    "- logical operators: `and`, `or`, `not`"
   ]
  },
  {
   "cell_type": "code",
   "execution_count": 111,
   "metadata": {
    "slideshow": {
     "slide_type": "fragment"
    }
   },
   "outputs": [
    {
     "data": {
      "text/plain": [
       "True"
      ]
     },
     "execution_count": 111,
     "metadata": {},
     "output_type": "execute_result"
    }
   ],
   "source": [
    "( (3 > 5) or ((3 < 4) and (5 > 4)) ) and not (3 == 5)\n",
    "\n",
    "# (True or (False and True)) and not (True)\n",
    "# (1 or (0 and 1)) and not (1)\n",
    "# 1 and 0 => 1 => True\n",
    "\n",
    "# \"True\" as 1 and \"False\" as 0, \n",
    "# \"or\" as addition, \"and\" as multiplication\n",
    "# \"not\" as negation."
   ]
  },
  {
   "cell_type": "markdown",
   "metadata": {
    "slideshow": {
     "slide_type": "fragment"
    }
   },
   "source": [
    "- `any()`: at least one element is true"
   ]
  },
  {
   "cell_type": "code",
   "execution_count": 113,
   "metadata": {
    "slideshow": {
     "slide_type": "fragment"
    }
   },
   "outputs": [
    {
     "data": {
      "text/plain": [
       "False"
      ]
     },
     "execution_count": 113,
     "metadata": {},
     "output_type": "execute_result"
    }
   ],
   "source": [
    "any([0,0,0])\n",
    "# any(list) returns True if any element in the list is True, otherwise False."
   ]
  },
  {
   "cell_type": "code",
   "execution_count": 114,
   "metadata": {},
   "outputs": [
    {
     "data": {
      "text/plain": [
       "True"
      ]
     },
     "execution_count": 114,
     "metadata": {},
     "output_type": "execute_result"
    }
   ],
   "source": [
    "any([1,0,0])\n",
    "# since there is at least one 1 in the list, the output is True."
   ]
  },
  {
   "cell_type": "markdown",
   "metadata": {
    "slideshow": {
     "slide_type": "fragment"
    }
   },
   "source": [
    "- `all()`: all elements are true"
   ]
  },
  {
   "cell_type": "code",
   "execution_count": 115,
   "metadata": {
    "slideshow": {
     "slide_type": "fragment"
    }
   },
   "outputs": [
    {
     "data": {
      "text/plain": [
       "False"
      ]
     },
     "execution_count": 115,
     "metadata": {},
     "output_type": "execute_result"
    }
   ],
   "source": [
    "all([True,1,False])\n",
    "# all(list) returns True if all elements in the list are True, otherwise False."
   ]
  },
  {
   "cell_type": "code",
   "execution_count": 116,
   "metadata": {},
   "outputs": [
    {
     "data": {
      "text/plain": [
       "True"
      ]
     },
     "execution_count": 116,
     "metadata": {},
     "output_type": "execute_result"
    }
   ],
   "source": [
    "all([True,1,True])\n",
    "# since none of elements are False, the output is True"
   ]
  },
  {
   "cell_type": "markdown",
   "metadata": {
    "slideshow": {
     "slide_type": "fragment"
    }
   },
   "source": [
    "- **bitwise operators** (we'll see these in numpy and pandas) : `&` (and), `|` (or), `~` (not)"
   ]
  },
  {
   "cell_type": "markdown",
   "metadata": {
    "slideshow": {
     "slide_type": "slide"
    }
   },
   "source": [
    "# Assert"
   ]
  },
  {
   "cell_type": "markdown",
   "metadata": {
    "slideshow": {
     "slide_type": "fragment"
    }
   },
   "source": [
    "- use `assert` to test anything we know should be true\n",
    "- simple unit test\n",
    "- raises exception when assertion is false, otherwise nothing"
   ]
  },
  {
   "cell_type": "markdown",
   "metadata": {},
   "source": [
    "## assert statement can check the output of a function or expression. If the output is not as expected, the program will raise an AssertionError."
   ]
  },
  {
   "cell_type": "markdown",
   "metadata": {},
   "source": [
    "### format: **assert expression / function, 'error message'**"
   ]
  },
  {
   "cell_type": "code",
   "execution_count": 117,
   "metadata": {
    "slideshow": {
     "slide_type": "fragment"
    }
   },
   "outputs": [
    {
     "ename": "AssertionError",
     "evalue": "",
     "output_type": "error",
     "traceback": [
      "\u001b[0;31m---------------------------------------------------------------------------\u001b[0m",
      "\u001b[0;31mAssertionError\u001b[0m                            Traceback (most recent call last)",
      "Cell \u001b[0;32mIn[117], line 1\u001b[0m\n\u001b[0;32m----> 1\u001b[0m \u001b[38;5;28;01massert\u001b[39;00m \u001b[38;5;241m2\u001b[39m\u001b[38;5;241m+\u001b[39m\u001b[38;5;241m2\u001b[39m \u001b[38;5;241m!=\u001b[39m \u001b[38;5;241m4\u001b[39m\n",
      "\u001b[0;31mAssertionError\u001b[0m: "
     ]
    }
   ],
   "source": [
    "assert 2+2 != 4\n",
    "# since \"2 + 2 is not equal to 4\" is not true, the assertion will output an error message."
   ]
  },
  {
   "cell_type": "code",
   "execution_count": 118,
   "metadata": {
    "slideshow": {
     "slide_type": "fragment"
    },
    "tags": [
     "raises-exception"
    ]
   },
   "outputs": [
    {
     "ename": "AssertionError",
     "evalue": "if this is wrong what you want to display",
     "output_type": "error",
     "traceback": [
      "\u001b[0;31m---------------------------------------------------------------------------\u001b[0m",
      "\u001b[0;31mAssertionError\u001b[0m                            Traceback (most recent call last)",
      "Cell \u001b[0;32mIn[118], line 1\u001b[0m\n\u001b[0;32m----> 1\u001b[0m \u001b[38;5;28;01massert\u001b[39;00m \u001b[38;5;241m1\u001b[39m \u001b[38;5;241m==\u001b[39m \u001b[38;5;241m0\u001b[39m, \u001b[38;5;124m'\u001b[39m\u001b[38;5;124mif this is wrong what you want to display\u001b[39m\u001b[38;5;124m'\u001b[39m\n",
      "\u001b[0;31mAssertionError\u001b[0m: if this is wrong what you want to display"
     ]
    }
   ],
   "source": [
    "assert 1 == 0, 'if this is wrong what you want to display'"
   ]
  },
  {
   "cell_type": "code",
   "execution_count": 119,
   "metadata": {
    "slideshow": {
     "slide_type": "fragment"
    },
    "tags": [
     "raises-exception"
    ]
   },
   "outputs": [
    {
     "ename": "AssertionError",
     "evalue": "1 does not equal 0",
     "output_type": "error",
     "traceback": [
      "\u001b[0;31m---------------------------------------------------------------------------\u001b[0m",
      "\u001b[0;31mAssertionError\u001b[0m                            Traceback (most recent call last)",
      "Cell \u001b[0;32mIn[119], line 2\u001b[0m\n\u001b[1;32m      1\u001b[0m \u001b[38;5;66;03m# can add an error message\u001b[39;00m\n\u001b[0;32m----> 2\u001b[0m \u001b[38;5;28;01massert\u001b[39;00m \u001b[38;5;241m1\u001b[39m \u001b[38;5;241m==\u001b[39m \u001b[38;5;241m0\u001b[39m, \u001b[38;5;124m\"\u001b[39m\u001b[38;5;124m1 does not equal 0\u001b[39m\u001b[38;5;124m\"\u001b[39m\n",
      "\u001b[0;31mAssertionError\u001b[0m: 1 does not equal 0"
     ]
    }
   ],
   "source": [
    "# can add an error message\n",
    "assert 1 == 0, \"1 does not equal 0\""
   ]
  },
  {
   "cell_type": "code",
   "execution_count": 121,
   "metadata": {},
   "outputs": [],
   "source": [
    "assert 1 == 1 # no assertion error when the expression is true"
   ]
  },
  {
   "cell_type": "markdown",
   "metadata": {
    "slideshow": {
     "slide_type": "slide"
    }
   },
   "source": [
    "# Control Flow: `if`, `elif`, `else`"
   ]
  },
  {
   "cell_type": "markdown",
   "metadata": {
    "slideshow": {
     "slide_type": "fragment"
    }
   },
   "source": [
    "- `if` then `elif` then `else`"
   ]
  },
  {
   "cell_type": "code",
   "execution_count": 69,
   "metadata": {
    "slideshow": {
     "slide_type": "fragment"
    }
   },
   "outputs": [
    {
     "name": "stdout",
     "output_type": "stream",
     "text": [
      "x > 0\n"
     ]
    }
   ],
   "source": [
    "x = 3\n",
    "if x > 0:\n",
    "    print('x > 0')\n",
    "elif x < 0:\n",
    "    print('x < 0')\n",
    "else:\n",
    "    print('x == 0')"
   ]
  },
  {
   "cell_type": "markdown",
   "metadata": {
    "slideshow": {
     "slide_type": "fragment"
    }
   },
   "source": [
    "- single-line `if` then `else`"
   ]
  },
  {
   "cell_type": "code",
   "execution_count": 70,
   "metadata": {
    "slideshow": {
     "slide_type": "fragment"
    }
   },
   "outputs": [
    {
     "name": "stdout",
     "output_type": "stream",
     "text": [
      "x >= 0\n"
     ]
    }
   ],
   "source": [
    "print(\"x < 0\") if (x < 0) else print(\"x >= 0\")\n",
    "# print (expression 1) if (condition for expression 1 is true) else print (expression 2)"
   ]
  },
  {
   "cell_type": "markdown",
   "metadata": {
    "slideshow": {
     "slide_type": "slide"
    }
   },
   "source": [
    "# More Control Flow: `for` and `while`"
   ]
  },
  {
   "cell_type": "markdown",
   "metadata": {},
   "source": [
    "## for loop: it can iterate over a sequence of values, such as a list or a string.\n",
    "- use for loop when you want to repeat a set of instructions for **a fixed number of times**.\n",
    "- `for` each element of an iterable: do something\n",
    "- use `for` loop when you are iterating over a **sequence of values** and you want to perform the same operation on each element."
   ]
  },
  {
   "cell_type": "code",
   "execution_count": 122,
   "metadata": {
    "slideshow": {
     "slide_type": "fragment"
    }
   },
   "outputs": [
    {
     "data": {
      "text/plain": [
       "[0, 1, 2]"
      ]
     },
     "execution_count": 122,
     "metadata": {},
     "output_type": "execute_result"
    }
   ],
   "source": [
    "a = []\n",
    "for x in [0,1,2]: # iterate over each element in the list [0, 1, 2]\n",
    "    a.append(x) # append each element to the list a\n",
    "a\n",
    "\n",
    "# the loop stops automatically when it reaches the end of the list\n",
    "# The list a contains all the elements of [0, 1, 2]"
   ]
  },
  {
   "cell_type": "markdown",
   "metadata": {
    "slideshow": {
     "slide_type": "fragment"
    }
   },
   "source": [
    "### while loop: it can run indefinitely until the condition is no longer true.\n",
    "- `while` something is true\n",
    "- `while` executes as long as a specified condition is true.\n",
    "- use `while` loop when **the number of iterations is unknown** or **when the loop should continue until a certain condition is met**"
   ]
  },
  {
   "cell_type": "code",
   "execution_count": 127,
   "metadata": {
    "slideshow": {
     "slide_type": "fragment"
    }
   },
   "outputs": [
    {
     "data": {
      "text/plain": [
       "3"
      ]
     },
     "execution_count": 127,
     "metadata": {},
     "output_type": "execute_result"
    }
   ],
   "source": [
    "x = 0\n",
    "while x < 3: # it will continue looping until x is less than 3\n",
    "    x += 1 # starting from x = 0, it will add 1 to x in each iteration, so x will be 1, 2, 3, and when x reaches to 3, the loop will stop due to it loop task is done\n",
    "x"
   ]
  },
  {
   "cell_type": "markdown",
   "metadata": {
    "slideshow": {
     "slide_type": "slide"
    }
   },
   "source": [
    "# More Control Flow: `break` and `continue`"
   ]
  },
  {
   "cell_type": "markdown",
   "metadata": {
    "slideshow": {
     "slide_type": "fragment"
    }
   },
   "source": [
    "## 'break' statement\n",
    "- `break` : break out of current loop\n",
    "- the loop exits the loop entirely once the cetain condition is met and continues with the next statement after the loop."
   ]
  },
  {
   "cell_type": "code",
   "execution_count": 130,
   "metadata": {
    "slideshow": {
     "slide_type": "fragment"
    }
   },
   "outputs": [
    {
     "name": "stdout",
     "output_type": "stream",
     "text": [
      "10\n"
     ]
    }
   ],
   "source": [
    "x = 0\n",
    "while True: # infinite loop due to condition is true always\n",
    "    x += 1\n",
    "    if x == 10:\n",
    "        print(x)\n",
    "        break # once x = 10 by incrementing to be true, and loop will print 10 and exits using break"
   ]
  },
  {
   "cell_type": "markdown",
   "metadata": {
    "slideshow": {
     "slide_type": "fragment"
    }
   },
   "source": [
    "### `continue` : continue immediately to next iteration of loop\n",
    "- `continue` statement is used to skip the current iteration of the loop and move to the next iteration.\n",
    "- It is used when we want to **skip the current iteration** and **move to the next iteration**, but the current **remaining statements in the loop cycle** will not be executed \n",
    "- it skips the rest of current iteration and moves to the next iteration of the loop"
   ]
  },
  {
   "cell_type": "code",
   "execution_count": 74,
   "metadata": {},
   "outputs": [
    {
     "name": "stdout",
     "output_type": "stream",
     "text": [
      "John\n",
      "Julia\n"
     ]
    }
   ],
   "source": [
    "for name in ['John', 'Ben', 'Julia']:\n",
    "    if name == 'Ben': \n",
    "        continue # once the expression is met, the loop will skip to the next iteration without executing the rest of the code block\n",
    "    print(name)\n",
    "    \n",
    "\n",
    "# when the loop reaches 'Ben', it will skip to the next iteration and print 'Julia' instead.\n",
    "# John and Julia are printed since  the continue statement is not met for them."
   ]
  },
  {
   "cell_type": "code",
   "execution_count": 75,
   "metadata": {
    "slideshow": {
     "slide_type": "fragment"
    }
   },
   "outputs": [
    {
     "name": "stdout",
     "output_type": "stream",
     "text": [
      "0\n",
      "2\n",
      "3\n",
      "4\n"
     ]
    }
   ],
   "source": [
    "for x in range(5): # for loop iterates over range 0 to 4 (inclusive)\n",
    "    if x == 1:\n",
    "        continue\n",
    "    print(x)\n",
    "    \n",
    "# when x == 1, the continue statement skips the rest of the loop and moves on to the next iteration.\n",
    "# all values of x will be printed except for 1."
   ]
  },
  {
   "cell_type": "markdown",
   "metadata": {
    "slideshow": {
     "slide_type": "slide"
    }
   },
   "source": [
    "# Generate a Range of Numbers: `range`"
   ]
  },
  {
   "cell_type": "code",
   "execution_count": 1,
   "metadata": {
    "slideshow": {
     "slide_type": "fragment"
    }
   },
   "outputs": [
    {
     "data": {
      "text/plain": [
       "[0, 1, 2, 3]"
      ]
     },
     "execution_count": 1,
     "metadata": {},
     "output_type": "execute_result"
    }
   ],
   "source": [
    "# create list of integers from 0 up to but not including 4\n",
    "a = []\n",
    "for x in range(4): # range(4) is exclusive, so we need to use 4-1=3\n",
    "    a.append(x)\n",
    "a\n",
    "\n",
    "# range(4) = range(0,4), starting from 0 to 3 (exclusive)"
   ]
  },
  {
   "cell_type": "code",
   "execution_count": 2,
   "metadata": {},
   "outputs": [
    {
     "data": {
      "text/plain": [
       "range(0, 4)"
      ]
     },
     "execution_count": 2,
     "metadata": {},
     "output_type": "execute_result"
    }
   ],
   "source": [
    "range(4)"
   ]
  },
  {
   "cell_type": "code",
   "execution_count": 3,
   "metadata": {
    "slideshow": {
     "slide_type": "fragment"
    }
   },
   "outputs": [
    {
     "data": {
      "text/plain": [
       "[0, 1, 2, 3]"
      ]
     },
     "execution_count": 3,
     "metadata": {},
     "output_type": "execute_result"
    }
   ],
   "source": [
    "list(range(4))"
   ]
  },
  {
   "cell_type": "code",
   "execution_count": 4,
   "metadata": {
    "slideshow": {
     "slide_type": "fragment"
    }
   },
   "outputs": [
    {
     "data": {
      "text/plain": [
       "[3, 4]"
      ]
     },
     "execution_count": 4,
     "metadata": {},
     "output_type": "execute_result"
    }
   ],
   "source": [
    "list(range(3,5)) # with a start and end+1\n",
    "# start from the third element (index 2) and go up to the fifth element (index 4) => [0, 1, 2, 3 (third element), 4 (fifth element)]"
   ]
  },
  {
   "cell_type": "code",
   "execution_count": 80,
   "metadata": {
    "scrolled": true,
    "slideshow": {
     "slide_type": "fragment"
    }
   },
   "outputs": [
    {
     "data": {
      "text/plain": [
       "[0, 2, 4, 6, 8]"
      ]
     },
     "execution_count": 80,
     "metadata": {},
     "output_type": "execute_result"
    }
   ],
   "source": [
    "list(range(0,10,2)) # with start, end+1 and step-size\n",
    "# start from first element (index 0) and end at the 10th element (index 9) with a step-size of 2 => [0(first element), 1(skip odd index), 2, 3, 4, 5， 6, 7， 8， 9]"
   ]
  },
  {
   "cell_type": "markdown",
   "metadata": {
    "slideshow": {
     "slide_type": "slide"
    }
   },
   "source": [
    "# Keep track of list index or for-loop iteration: `enumerate`\n",
    "## to add an index counter to the iterable (list, tuple, etc.)\n",
    "## and to return both index and items in each iteration of a loop."
   ]
  },
  {
   "cell_type": "code",
   "execution_count": 81,
   "metadata": {
    "slideshow": {
     "slide_type": "fragment"
    }
   },
   "outputs": [
    {
     "name": "stdout",
     "output_type": "stream",
     "text": [
      "0 a\n",
      "1 b\n",
      "2 c\n"
     ]
    }
   ],
   "source": [
    "for i,x in enumerate(['a','b','c']): # enumerate() requires both i, x where i is the index counter and x is the value of the list\n",
    "    print(i,x) # in each iteration, i is the index and x is the value of the list"
   ]
  },
  {
   "cell_type": "code",
   "execution_count": 82,
   "metadata": {
    "slideshow": {
     "slide_type": "fragment"
    }
   },
   "outputs": [
    {
     "data": {
      "text/plain": [
       "[(0, 'a'), (1, 'b'), (2, 'c')]"
      ]
     },
     "execution_count": 82,
     "metadata": {},
     "output_type": "execute_result"
    }
   ],
   "source": [
    "list(enumerate(['a','b','c']))\n",
    "# convert enumerate object to list => [(index counter, element), (index counter, element), (index counter, element)]"
   ]
  },
  {
   "cell_type": "markdown",
   "metadata": {
    "slideshow": {
     "slide_type": "slide"
    }
   },
   "source": [
    "# Sorting"
   ]
  },
  {
   "cell_type": "markdown",
   "metadata": {
    "slideshow": {
     "slide_type": "fragment"
    }
   },
   "source": [
    "Two ways to sort a list:"
   ]
  },
  {
   "cell_type": "markdown",
   "metadata": {
    "slideshow": {
     "slide_type": "fragment"
    }
   },
   "source": [
    "1. by changing the list itself: `list.sort()`\n",
    "- This method sorts the list in place, meaning it modifies the original list but does not create a new list.\n",
    "- The `list.sort()` method sorts the list in ascending order by default.\n",
    "- To sort the list in descending order, you can use the `reverse=True` parameter."
   ]
  },
  {
   "cell_type": "code",
   "execution_count": 7,
   "metadata": {
    "slideshow": {
     "slide_type": "fragment"
    }
   },
   "outputs": [],
   "source": [
    "x = [4,1,2,3]\n",
    "x.sort() # => it will return the order in ascending order\n",
    "assert x == [1,2,3,4], 'Not same lists' # assert statement to check if the sorted list is the same as the original list"
   ]
  },
  {
   "cell_type": "markdown",
   "metadata": {
    "slideshow": {
     "slide_type": "fragment"
    }
   },
   "source": [
    "2. without changing the list: `sorted(list)`\n",
    "- `sorted()` function **returns a new sorted list without changing the original list.**\n",
    "- `sorted(list)` sorts the list in **ascending order**.\n",
    "- `sorted(list, reverse=True)` sorts the list in descending order.\n",
    "- `sorted(list)` can work on **any iterable object**, such as strings, tuples, and dictionaries."
   ]
  },
  {
   "cell_type": "code",
   "execution_count": 8,
   "metadata": {
    "slideshow": {
     "slide_type": "fragment"
    }
   },
   "outputs": [],
   "source": [
    "x = [4,1,2,3]\n",
    "y = sorted(x)\n",
    "assert x == [4,1,2,3]\n",
    "assert y == [1,2,3,4]"
   ]
  },
  {
   "cell_type": "markdown",
   "metadata": {
    "slideshow": {
     "slide_type": "slide"
    }
   },
   "source": [
    "# Sorting Cont."
   ]
  },
  {
   "cell_type": "markdown",
   "metadata": {
    "slideshow": {
     "slide_type": "fragment"
    }
   },
   "source": [
    "- To sort descending, use `reverse=True`:"
   ]
  },
  {
   "cell_type": "code",
   "execution_count": 9,
   "metadata": {
    "slideshow": {
     "slide_type": "fragment"
    }
   },
   "outputs": [],
   "source": [
    "assert sorted([1,2,3,4], reverse=True) == [4,3,2,1]"
   ]
  },
  {
   "cell_type": "markdown",
   "metadata": {
    "slideshow": {
     "slide_type": "fragment"
    }
   },
   "source": [
    "- Pass a `lambda` function to 'key=' to specify what to sort by:"
   ]
  },
  {
   "cell_type": "code",
   "execution_count": 11,
   "metadata": {
    "slideshow": {
     "slide_type": "fragment"
    }
   },
   "outputs": [],
   "source": [
    "# for example, to sort a dictionary by value\n",
    "d = {'a':3,'b':5,'c':1}\n",
    "\n",
    "# recall that .items() returns a set of key,value tuples\n",
    "s = sorted(d.items(), key=lambda x: x[1])\n",
    "# sorted() method will sort the list of tuples by the second element of each tuple (i.e. the value)\n",
    "# dict.items() will return a list of tuples, so we can use a lambda function to sort by the second element of each tuple\n",
    "# the lambda function takes a tuple x and returns x[1], which is the value of the dictionary item\n",
    "## for ('a', 3), lambda x: x[1] returns 3\n",
    "## for ('b', 5), lambda x: x[1] returns 5\n",
    "## for ('c', 1), lambda x: x[1] returns 1\n",
    "\n",
    "assert s == [('c', 1), ('a', 3), ('b', 5)] # we use sorted() method to order the list of tuples by value in ascending order, the ordered tuples will be ascending by values"
   ]
  },
  {
   "cell_type": "code",
   "execution_count": 12,
   "metadata": {},
   "outputs": [
    {
     "data": {
      "text/plain": [
       "[('a', 3), ('b', 5), ('c', 1)]"
      ]
     },
     "execution_count": 12,
     "metadata": {},
     "output_type": "execute_result"
    }
   ],
   "source": [
    "sorted(d.items(), key=lambda x: x[0])\n",
    "# since this time we use lambda function to sort the dictionary by keys in x[0], the output will be sorted by keys in ascending order."
   ]
  },
  {
   "cell_type": "markdown",
   "metadata": {
    "slideshow": {
     "slide_type": "slide"
    }
   },
   "source": [
    "# List Comprehensions\n",
    "\n",
    "## Syntax: [expression for item in iterable if condition]\n",
    "- expresssion: this is result or operation performed on each item in the iterable\n",
    "- for item in iterable: this is the loop that iterates over each item in the iterable\n",
    "- if condition: this is an optional condition that filters the items in the iterable"
   ]
  },
  {
   "cell_type": "markdown",
   "metadata": {
    "slideshow": {
     "slide_type": "fragment"
    }
   },
   "source": [
    "- Like a single line for loop over a list or other iterable"
   ]
  },
  {
   "cell_type": "code",
   "execution_count": 13,
   "metadata": {
    "slideshow": {
     "slide_type": "fragment"
    }
   },
   "outputs": [
    {
     "data": {
      "text/plain": [
       "[True, False, True, False]"
      ]
     },
     "execution_count": 13,
     "metadata": {},
     "output_type": "execute_result"
    }
   ],
   "source": [
    "# which integers between 0 and 3 inclusive are divisible by 2?\n",
    "is_even = []\n",
    "for x in range(0,4):\n",
    "    is_even.append(x%2 == 0)\n",
    "is_even"
   ]
  },
  {
   "cell_type": "code",
   "execution_count": 14,
   "metadata": {
    "scrolled": true,
    "slideshow": {
     "slide_type": "fragment"
    }
   },
   "outputs": [
    {
     "data": {
      "text/plain": [
       "[True, False, True, False]"
      ]
     },
     "execution_count": 14,
     "metadata": {},
     "output_type": "execute_result"
    }
   ],
   "source": [
    "[x%2 == 0 for x in range(0,4)] # using a list comprehension"
   ]
  },
  {
   "cell_type": "code",
   "execution_count": 15,
   "metadata": {
    "slideshow": {
     "slide_type": "fragment"
    }
   },
   "outputs": [
    {
     "data": {
      "text/plain": [
       "[1, 2, 3]"
      ]
     },
     "execution_count": 15,
     "metadata": {},
     "output_type": "execute_result"
    }
   ],
   "source": [
    "# what are the indices of the vowels in 'apple'?\n",
    "vowels = ['a','e','i','o','u']\n",
    "[i for i,x in enumerate('apple') if x not in vowels]"
   ]
  },
  {
   "cell_type": "code",
   "execution_count": 17,
   "metadata": {},
   "outputs": [
    {
     "name": "stdout",
     "output_type": "stream",
     "text": [
      "[0, 1, 4, 3, 8]\n"
     ]
    }
   ],
   "source": [
    "# using both for and if-else condition without list comprehension\n",
    "a = []\n",
    "for x in range(5):\n",
    "    if x % 2 == 0:\n",
    "        a.append(x * 2)\n",
    "    else:\n",
    "        a.append(x)\n",
    "print(a)"
   ]
  },
  {
   "cell_type": "code",
   "execution_count": 19,
   "metadata": {},
   "outputs": [
    {
     "name": "stdout",
     "output_type": "stream",
     "text": [
      "[0, 1, 4, 3, 8]\n"
     ]
    }
   ],
   "source": [
    "# use the same condition in list comprehension\n",
    "a = [x * 2 if x % 2 == 0 else x for x in range(5)]\n",
    "print (a)"
   ]
  },
  {
   "cell_type": "markdown",
   "metadata": {
    "slideshow": {
     "slide_type": "slide"
    }
   },
   "source": [
    "# Dictionary Comprehension\n",
    "## syntax: {key_expression: value_expression for item in iterable if condition}\n",
    "- key_expression: expression that generates the key for the dictionary\n",
    "- value_expression: expression that generates the value for the dictionary\n",
    "- iterable: an iterable object (e.g. list, tuple, set, etc.)\n",
    "- for item in iterable: iterates over each item in the iterable\n",
    "- if condition: optional condition that must be True for the item to be included in the dictionary"
   ]
  },
  {
   "cell_type": "markdown",
   "metadata": {
    "slideshow": {
     "slide_type": "fragment"
    }
   },
   "source": [
    "- list comprehension but for (key,value) pairs\n",
    "- can add logic to dictionary creation"
   ]
  },
  {
   "cell_type": "code",
   "execution_count": 21,
   "metadata": {
    "slideshow": {
     "slide_type": "fragment"
    }
   },
   "outputs": [],
   "source": [
    "pairs = [(1,'e'),(2,'f'),(3,'g')]"
   ]
  },
  {
   "cell_type": "code",
   "execution_count": 22,
   "metadata": {
    "slideshow": {
     "slide_type": "fragment"
    }
   },
   "outputs": [
    {
     "data": {
      "text/plain": [
       "{1: 'e', 2: 'f', 3: 'g'}"
      ]
     },
     "execution_count": 22,
     "metadata": {},
     "output_type": "execute_result"
    }
   ],
   "source": [
    "dict(pairs)"
   ]
  },
  {
   "cell_type": "code",
   "execution_count": 23,
   "metadata": {
    "slideshow": {
     "slide_type": "fragment"
    }
   },
   "outputs": [
    {
     "data": {
      "text/plain": [
       "{1: 'value_e', 3: 'value_g'}"
      ]
     },
     "execution_count": 23,
     "metadata": {},
     "output_type": "execute_result"
    }
   ],
   "source": [
    "# modify value and only include odd keys\n",
    "{key:'value_'+ val for key,val in pairs if key%2 == 1} # it will return the key with value that fits the if condition"
   ]
  },
  {
   "cell_type": "code",
   "execution_count": 24,
   "metadata": {},
   "outputs": [
    {
     "name": "stdout",
     "output_type": "stream",
     "text": [
      "{'a': 1, 'b': 2, 'c': 3}\n"
     ]
    }
   ],
   "source": [
    "# Creating a Dictionary from Two Lists\n",
    "\n",
    "keys = ['a', 'b', 'c']\n",
    "values = [1, 2, 3]\n",
    "\n",
    "combined_dict = {k: v for k, v in zip(keys, values)}\n",
    "print(combined_dict)"
   ]
  },
  {
   "cell_type": "code",
   "execution_count": 26,
   "metadata": {},
   "outputs": [
    {
     "name": "stdout",
     "output_type": "stream",
     "text": [
      "{2: 4, 4: 16}\n"
     ]
    }
   ],
   "source": [
    "# traditional for loop with dictionary\n",
    "even_squares = {}\n",
    "for x in range(1, 6): # iterate over numbers 1 to 5\n",
    "    if x % 2 == 0: # x is key in even_squares dictionary\n",
    "        even_squares[x] = x**2 # even_squares[x] indicate when if-condition is true, add x^2 as value to even_squares dictionary where key is x\n",
    "\n",
    "print(even_squares)"
   ]
  },
  {
   "cell_type": "code",
   "execution_count": 28,
   "metadata": {},
   "outputs": [
    {
     "name": "stdout",
     "output_type": "stream",
     "text": [
      "{2: 4, 4: 16}\n"
     ]
    }
   ],
   "source": [
    "# Alternatively, we can use dict comprehension to achieve the same result:\n",
    "\n",
    "even_squares = {x: x**2 for x in range(1, 6) if x % 2 == 0}\n",
    "# x: x**2 indicate the key and value expression in the dict to be returned.\n",
    "# range(1, 6) is the range of numbers to be used as keys => in this case, x is the key.\n",
    "# if x % 2 == 0 is the condition to filter out odd numbers. If the condition is True, the value will be squared and added to the dictionary.\n",
    "\n",
    "print(even_squares)"
   ]
  },
  {
   "cell_type": "markdown",
   "metadata": {
    "slideshow": {
     "slide_type": "skip"
    }
   },
   "source": [
    "# Iterables and Generators"
   ]
  },
  {
   "cell_type": "markdown",
   "metadata": {
    "slideshow": {
     "slide_type": "skip"
    }
   },
   "source": [
    "- **Iterable**: anything we can iterate over, eg list\n",
    "\n",
    "- **Iterator**:\n",
    "    - the object doing the iterating\n",
    "    - can use `.next()` to get the next value in the iterable\n",
    "    - every iterator is an iterable, but reverse not always true"
   ]
  },
  {
   "cell_type": "code",
   "execution_count": 29,
   "metadata": {
    "slideshow": {
     "slide_type": "skip"
    }
   },
   "outputs": [],
   "source": [
    "iter_obj = iter([1,2,3])\n",
    "\n",
    "assert next(iter_obj) == 1"
   ]
  },
  {
   "cell_type": "markdown",
   "metadata": {
    "slideshow": {
     "slide_type": "skip"
    }
   },
   "source": [
    "# Iterables and Generators Cont."
   ]
  },
  {
   "cell_type": "markdown",
   "metadata": {
    "slideshow": {
     "slide_type": "skip"
    }
   },
   "source": [
    "- **Generator**\n",
    " - generates values *lazily* on demand (values not stored in memory)\n",
    " - contains a `yield` operator\n",
    " - can use `.next()` to get the next value\n",
    " - or wrap in comprehension or list to generate all"
   ]
  },
  {
   "cell_type": "code",
   "execution_count": 95,
   "metadata": {
    "slideshow": {
     "slide_type": "skip"
    }
   },
   "outputs": [],
   "source": [
    "def generate_ones(n):\n",
    "    i = 0\n",
    "    while i < n:\n",
    "        yield 1\n",
    "        i += 1\n",
    "\n",
    "assert list(generate_ones(3)) == [1,1,1]"
   ]
  },
  {
   "cell_type": "markdown",
   "metadata": {
    "slideshow": {
     "slide_type": "slide"
    }
   },
   "source": [
    "# Object Oriented"
   ]
  },
  {
   "cell_type": "code",
   "execution_count": 96,
   "metadata": {
    "slideshow": {
     "slide_type": "fragment"
    }
   },
   "outputs": [],
   "source": [
    "class MyClass:\n",
    "    \"\"\"A descriptive docstring.\"\"\"\n",
    "    \n",
    "    # constructor\n",
    "    def __init__(self,myvalue = 0):  # what happens when created\n",
    "        # attributes\n",
    "        self.myvalue = myvalue\n",
    "\n",
    "    def __repr__(self):   # what gets printed out (string repr.)\n",
    "        return f'MyClass(myvalue={self.myvalue})'\n",
    "\n",
    "    # any other methods\n",
    "    \n",
    "    def get_value(self):\n",
    "        \"\"\"Return the value in myvalue.\"\"\"\n",
    "        return self.myvalue"
   ]
  },
  {
   "cell_type": "code",
   "execution_count": 97,
   "metadata": {
    "slideshow": {
     "slide_type": "fragment"
    }
   },
   "outputs": [],
   "source": [
    "x = MyClass(100)            # instantiate object\n",
    "\n",
    "assert x.myvalue == 100     # access object attribute\n",
    "\n",
    "assert x.get_value() == 100 # use object method"
   ]
  },
  {
   "cell_type": "markdown",
   "metadata": {
    "slideshow": {
     "slide_type": "slide"
    }
   },
   "source": [
    "# Importing Modules\n",
    "<br>\n",
    "\n",
    "- Want to import a module/library? Use `import`"
   ]
  },
  {
   "cell_type": "code",
   "execution_count": 98,
   "metadata": {
    "slideshow": {
     "slide_type": "fragment"
    }
   },
   "outputs": [
    {
     "data": {
      "text/plain": [
       "1.4142135623730951"
      ]
     },
     "execution_count": 98,
     "metadata": {},
     "output_type": "execute_result"
    }
   ],
   "source": [
    "import math\n",
    "\n",
    "math.sqrt(2)"
   ]
  },
  {
   "cell_type": "markdown",
   "metadata": {
    "slideshow": {
     "slide_type": "fragment"
    }
   },
   "source": [
    "- Want to import a submodule or function from a module? Use `from`"
   ]
  },
  {
   "cell_type": "code",
   "execution_count": 99,
   "metadata": {
    "slideshow": {
     "slide_type": "fragment"
    }
   },
   "outputs": [
    {
     "name": "stdout",
     "output_type": "stream",
     "text": [
      "1.4142135623730951\n",
      "1\n"
     ]
    }
   ],
   "source": [
    "from math import sqrt,floor\n",
    "\n",
    "print(sqrt(2))\n",
    "print(floor(sqrt(2)))"
   ]
  },
  {
   "cell_type": "markdown",
   "metadata": {
    "slideshow": {
     "slide_type": "slide"
    }
   },
   "source": [
    "# Importing Modules Cont.\n",
    "<br>\n",
    "\n",
    "- Want to import a module using an alias? Use 'as'"
   ]
  },
  {
   "cell_type": "code",
   "execution_count": 100,
   "metadata": {
    "slideshow": {
     "slide_type": "fragment"
    }
   },
   "outputs": [
    {
     "data": {
      "text/plain": [
       "1.4142135623730951"
      ]
     },
     "execution_count": 100,
     "metadata": {},
     "output_type": "execute_result"
    }
   ],
   "source": [
    "import math as m\n",
    "m.sqrt(2)"
   ]
  },
  {
   "cell_type": "markdown",
   "metadata": {
    "slideshow": {
     "slide_type": "fragment"
    }
   },
   "source": [
    "- Don't do: `import *`\n",
    "\n",
    "```python\n",
    "from math import *\n",
    "# for example, what if there is a math.print() function?\n",
    "# what happens when we then call print()?\n",
    "```"
   ]
  },
  {
   "cell_type": "markdown",
   "metadata": {
    "slideshow": {
     "slide_type": "slide"
    }
   },
   "source": [
    "# `collections` Module"
   ]
  },
  {
   "cell_type": "code",
   "execution_count": 101,
   "metadata": {
    "slideshow": {
     "slide_type": "fragment"
    }
   },
   "outputs": [],
   "source": [
    "from collections import Counter, defaultdict"
   ]
  },
  {
   "cell_type": "markdown",
   "metadata": {
    "slideshow": {
     "slide_type": "fragment"
    }
   },
   "source": [
    "- `Counter` : useful for counting hashable objects\n",
    "- `defaultdict` : create dictionaries without checking keys\n",
    "- `OrderedDict` : key,value pairs returned in order added\n",
    "<br>\n",
    "\n",
    "- others : https://docs.python.org/3.7/library/collections.html"
   ]
  },
  {
   "cell_type": "markdown",
   "metadata": {
    "slideshow": {
     "slide_type": "slide"
    }
   },
   "source": [
    "# `collections` Module: `Counter`"
   ]
  },
  {
   "cell_type": "code",
   "execution_count": 102,
   "metadata": {
    "slideshow": {
     "slide_type": "fragment"
    }
   },
   "outputs": [
    {
     "data": {
      "text/plain": [
       "Counter({'red': 2, 'blue': 3, 'green': 1})"
      ]
     },
     "execution_count": 102,
     "metadata": {},
     "output_type": "execute_result"
    }
   ],
   "source": [
    "c = Counter(['red', 'blue', 'red', 'green', 'blue', 'blue'])\n",
    "c"
   ]
  },
  {
   "cell_type": "code",
   "execution_count": 103,
   "metadata": {
    "slideshow": {
     "slide_type": "fragment"
    }
   },
   "outputs": [],
   "source": [
    "c = Counter()\n",
    "for word in ['red', 'blue', 'red', 'green', 'blue', 'blue']:\n",
    "    c[word] += 1"
   ]
  },
  {
   "cell_type": "code",
   "execution_count": 104,
   "metadata": {
    "slideshow": {
     "slide_type": "fragment"
    }
   },
   "outputs": [
    {
     "data": {
      "text/plain": [
       "[('blue', 3), ('red', 2), ('green', 1)]"
      ]
     },
     "execution_count": 104,
     "metadata": {},
     "output_type": "execute_result"
    }
   ],
   "source": [
    "c.most_common()"
   ]
  },
  {
   "cell_type": "markdown",
   "metadata": {
    "slideshow": {
     "slide_type": "slide"
    }
   },
   "source": [
    "# `collections` Module Cont. : `defaultdict`"
   ]
  },
  {
   "cell_type": "code",
   "execution_count": 105,
   "metadata": {
    "slideshow": {
     "slide_type": "fragment"
    }
   },
   "outputs": [
    {
     "name": "stdout",
     "output_type": "stream",
     "text": [
      "Exception reporting mode: Minimal\n"
     ]
    }
   ],
   "source": [
    "%xmode Minimal \n",
    "# reduce the amount printed when an exception is thrown"
   ]
  },
  {
   "cell_type": "code",
   "execution_count": 106,
   "metadata": {
    "slideshow": {
     "slide_type": "fragment"
    },
    "tags": [
     "raises-exception"
    ]
   },
   "outputs": [
    {
     "ename": "KeyError",
     "evalue": "3",
     "output_type": "error",
     "traceback": [
      "\u001b[0;31mKeyError\u001b[0m\u001b[0;31m:\u001b[0m 3\n"
     ]
    }
   ],
   "source": [
    "# create mapping from length of word to list of words\n",
    "colors = ['red', 'blue', 'purple', 'gold', 'orange']\n",
    "d = {}\n",
    "for word in colors:\n",
    "    d[len(word)].append(word)"
   ]
  },
  {
   "cell_type": "code",
   "execution_count": 107,
   "metadata": {
    "slideshow": {
     "slide_type": "fragment"
    }
   },
   "outputs": [
    {
     "data": {
      "text/plain": [
       "{3: ['red'], 4: ['blue', 'gold'], 6: ['purple', 'orange']}"
      ]
     },
     "execution_count": 107,
     "metadata": {},
     "output_type": "execute_result"
    }
   ],
   "source": [
    "d = {}\n",
    "for word in colors:\n",
    "    if len(word) in d:\n",
    "        d[len(word)].append(word)\n",
    "    else:\n",
    "        d[len(word)] = [word]\n",
    "d"
   ]
  },
  {
   "cell_type": "code",
   "execution_count": 108,
   "metadata": {
    "slideshow": {
     "slide_type": "fragment"
    }
   },
   "outputs": [
    {
     "data": {
      "text/plain": [
       "defaultdict(list, {3: ['red'], 4: ['blue', 'gold'], 6: ['purple', 'orange']})"
      ]
     },
     "execution_count": 108,
     "metadata": {},
     "output_type": "execute_result"
    }
   ],
   "source": [
    "d = defaultdict(list)\n",
    "for word in colors:\n",
    "     d[len(word)].append(word)\n",
    "d"
   ]
  },
  {
   "cell_type": "markdown",
   "metadata": {
    "slideshow": {
     "slide_type": "fragment"
    }
   },
   "source": [
    "Defaultdict is a sub-class of the dictionary class that returns a dictionary-like object. The functionality of both dictionaries and defaultdict are almost same except for the fact that defaultdict never raises a KeyError. It provides a default value for the key that does not exists."
   ]
  },
  {
   "cell_type": "code",
   "execution_count": 109,
   "metadata": {},
   "outputs": [
    {
     "name": "stdout",
     "output_type": "stream",
     "text": [
      "1\n",
      "2\n",
      "Not Present\n"
     ]
    }
   ],
   "source": [
    "# Function to return a default\n",
    "# values for keys that is not\n",
    "# present\n",
    "def def_value():\n",
    "    return \"Not Present\"\n",
    "\n",
    "d = defaultdict(def_value)\n",
    "d[\"a\"] = 1\n",
    "d[\"b\"] = 2\n",
    "  \n",
    "print(d[\"a\"])\n",
    "print(d[\"b\"])\n",
    "print(d[\"c\"])"
   ]
  },
  {
   "cell_type": "markdown",
   "metadata": {
    "slideshow": {
     "slide_type": "slide"
    }
   },
   "source": [
    "# Contexts"
   ]
  },
  {
   "cell_type": "markdown",
   "metadata": {
    "slideshow": {
     "slide_type": "fragment"
    }
   },
   "source": [
    "- a context is like applying a scope with helper functions\n",
    "- For example: open and write to a file"
   ]
  },
  {
   "cell_type": "code",
   "execution_count": 110,
   "metadata": {
    "slideshow": {
     "slide_type": "fragment"
    }
   },
   "outputs": [],
   "source": [
    "with open('tmp_context_example.txt','w') as f:\n",
    "    f.write('test')"
   ]
  },
  {
   "cell_type": "code",
   "execution_count": 111,
   "metadata": {
    "slideshow": {
     "slide_type": "fragment"
    }
   },
   "outputs": [],
   "source": [
    "# instead of\n",
    "f = open('tmp_context_example.txt','w')\n",
    "f.write('test')\n",
    "f.close() # this is easy to forget to do"
   ]
  },
  {
   "cell_type": "code",
   "execution_count": 112,
   "metadata": {
    "slideshow": {
     "slide_type": "fragment"
    }
   },
   "outputs": [],
   "source": [
    "# remove the example file we just created\n",
    "%rm tmp_context_example.txt"
   ]
  },
  {
   "cell_type": "markdown",
   "metadata": {
    "slideshow": {
     "slide_type": "slide"
    }
   },
   "source": [
    "# Python (Review?)\n",
    "\n",
    "- Dynamic Typing\n",
    "- Whitespace Formatting\n",
    "- Basic Data Types\n",
    "- Functions\n",
    "- String Formatting\n",
    "- Exceptions and Try-Except\n",
    "- Truthiness\n",
    "- Comparisons and Logical Operators\n",
    "- Control Flow\n",
    "- Assert\n",
    "- Sorting\n",
    "- List/Dict Comprehensions\n",
    "- Importing Modules\n",
    "- collections Module\n",
    "- Object Oriented Programming"
   ]
  },
  {
   "cell_type": "markdown",
   "metadata": {
    "slideshow": {
     "slide_type": "slide"
    }
   },
   "source": [
    "<br>\n",
    "<br>\n",
    "\n",
    "# <center>Questions?</center>\n",
    "<br>\n",
    "<br>"
   ]
  },
  {
   "cell_type": "markdown",
   "metadata": {
    "slideshow": {
     "slide_type": "slide"
    }
   },
   "source": [
    "# Working with Data"
   ]
  },
  {
   "cell_type": "markdown",
   "metadata": {
    "slideshow": {
     "slide_type": "fragment"
    }
   },
   "source": [
    "Want to:\n",
    "- transform and select data quickly (numpy)\n",
    "<br>\n",
    "\n",
    "- manipulate datasets: load, save, group, join, etc. (pandas)\n",
    "<br>\n",
    "\n",
    "- keep things organized (pandas)"
   ]
  },
  {
   "cell_type": "markdown",
   "metadata": {
    "slideshow": {
     "slide_type": "slide"
    }
   },
   "source": [
    "# Intro to NumPy"
   ]
  },
  {
   "cell_type": "markdown",
   "metadata": {
    "slideshow": {
     "slide_type": "fragment"
    }
   },
   "source": [
    "\n",
    "<img src=\"https://upload.wikimedia.org/wikipedia/commons/thumb/3/31/NumPy_logo_2020.svg/640px-NumPy_logo_2020.svg.png?1600616553332\" width=\"200px\">\n",
    "\n",
    "\n",
    "Provides (from numpy.org):\n",
    "\n",
    "- a powerful N-dimensional array object\n",
    "<br>\n",
    "\n",
    "- sophisticated (broadcasting) functions\n",
    "<br>\n",
    "\n",
    "- linear algebra and random number capabilities\n",
    "<br>\n",
    "\n",
    "- (Fourier transform, tools for integrating C/C++ and Fortran code, etc.)"
   ]
  },
  {
   "cell_type": "markdown",
   "metadata": {
    "slideshow": {
     "slide_type": "slide"
    }
   },
   "source": [
    "# Python Dynamic Typing"
   ]
  },
  {
   "cell_type": "code",
   "execution_count": 6,
   "metadata": {
    "slideshow": {
     "slide_type": "fragment"
    }
   },
   "outputs": [
    {
     "data": {
      "text/plain": [
       "str"
      ]
     },
     "execution_count": 6,
     "metadata": {},
     "output_type": "execute_result"
    }
   ],
   "source": [
    "x = 5\n",
    "x = 'five'\n",
    "type(x)\n",
    "# this is dynamic typing, which means that the type of a variable can change during the execution of a program."
   ]
  },
  {
   "cell_type": "markdown",
   "metadata": {
    "slideshow": {
     "slide_type": "fragment"
    }
   },
   "source": [
    "    - Note: still *strongly* typed\n",
    "- Python is both a strongly typed and a dynamically typed language. \n",
    "\n",
    "## **Strong typing** means that variables do have a type and that the type matters when performing operations on a variable. \n",
    "## **Dynamic typing** means that the type of the variable is determined only during runtime."
   ]
  },
  {
   "cell_type": "code",
   "execution_count": 3,
   "metadata": {
    "slideshow": {
     "slide_type": "fragment"
    },
    "tags": [
     "raises-exception"
    ]
   },
   "outputs": [
    {
     "ename": "TypeError",
     "evalue": "unsupported operand type(s) for +: 'int' and 'str'",
     "output_type": "error",
     "traceback": [
      "\u001b[0;31m---------------------------------------------------------------------------\u001b[0m",
      "\u001b[0;31mTypeError\u001b[0m                                 Traceback (most recent call last)",
      "Cell \u001b[0;32mIn[3], line 2\u001b[0m\n\u001b[1;32m      1\u001b[0m x,y \u001b[38;5;241m=\u001b[39m \u001b[38;5;241m5\u001b[39m,\u001b[38;5;124m'\u001b[39m\u001b[38;5;124mfive\u001b[39m\u001b[38;5;124m'\u001b[39m\n\u001b[0;32m----> 2\u001b[0m \u001b[43mx\u001b[49m\u001b[38;5;241;43m+\u001b[39;49m\u001b[43my\u001b[49m\n\u001b[1;32m      4\u001b[0m \u001b[38;5;66;03m# this is strong typing, which means that the type of x and y must be the same.\u001b[39;00m\n",
      "\u001b[0;31mTypeError\u001b[0m: unsupported operand type(s) for +: 'int' and 'str'"
     ]
    }
   ],
   "source": [
    "x,y = 5,'five'\n",
    "x+y\n",
    "\n",
    "# this is strong typing, which means that the type of x and y must be the same."
   ]
  },
  {
   "cell_type": "markdown",
   "metadata": {
    "slideshow": {
     "slide_type": "slide"
    }
   },
   "source": [
    "# Python Dynamic Typing"
   ]
  },
  {
   "cell_type": "markdown",
   "metadata": {
    "slideshow": {
     "slide_type": "fragment"
    }
   },
   "source": [
    "<div align=\"center\"><img src=\"https://jakevdp.github.io/PythonDataScienceHandbook/figures/cint_vs_pyint.png\" width=\"500px\"></div>\n",
    "<br>\n",
    "[PDHS Chap 2.](https://jakevdp.github.io/PythonDataScienceHandbook/02.01-understanding-data-types.html)\n",
    "\n",
    "- A C integer is essentially a label for a position in memory whose bytes encode an integer value. \n",
    "- A Python integer is a pointer to a position in memory containing all the Python object information, including the bytes that contain the integer value. \n",
    "    - **ob_refcnt**, a reference count that helps Python silently handle memory allocation and deallocation\n",
    "    - **ob_type**, which encodes the type of the variable\n",
    "    - **ob_size**, which specifies the size\n",
    "    - **ob_digit**, which contains the actual integer value that we expect the Python variable to represent.\n",
    "This extra information in the Python integer structure is what allows Python to be coded so freely and dynamically.\n"
   ]
  },
  {
   "cell_type": "markdown",
   "metadata": {
    "slideshow": {
     "slide_type": "slide"
    }
   },
   "source": [
    "# NumPy Array vs Python List\n",
    "\n",
    "## The NumPy array essentially contains a single pointer to one contiguous block of data. \n",
    "- This means that accessing or manipulating individual elements in a NumPy array is much faster than in a Python list. \n",
    "- single pointer means that NumPy arrays are more memory-efficient than Python lists. \n",
    "\n",
    "## The Python list, on the other hand, contains a pointer to a block of pointers, each of which in turn points to a full Python object like the Python integer we saw earlier. \n",
    "- This means that accessing or manipulating individual elements in a Python list is slower than in a NumPy array. \n",
    "- multiple pointers means that Python lists are more flexible than NumPy arrays.\n",
    "\n",
    "## The advantage of the list is flexibility: because each list element is a full structure containing both data and type information, \n",
    "- Python list can be filled with data of any desired type. \n",
    "- Fixed-type NumPy-style arrays lack this flexibility, but are much more efficient for storing and manipulating data."
   ]
  },
  {
   "cell_type": "markdown",
   "metadata": {
    "slideshow": {
     "slide_type": "fragment"
    }
   },
   "source": [
    "<div align=\"center\"><img src=\"https://jakevdp.github.io/PythonDataScienceHandbook/figures/array_vs_list.png\" width=700px></div>\n",
    "<br>\n",
    "<br>\n",
    "<br>\n",
    "\n",
    "[PDHS Chap 2.](https://jakevdp.github.io/PythonDataScienceHandbook/02.01-understanding-data-types.html)"
   ]
  },
  {
   "cell_type": "markdown",
   "metadata": {
    "slideshow": {
     "slide_type": "slide"
    }
   },
   "source": [
    "# Importing NumPy"
   ]
  },
  {
   "cell_type": "markdown",
   "metadata": {
    "slideshow": {
     "slide_type": "fragment"
    }
   },
   "source": [
    "Often imported as alias `np`"
   ]
  },
  {
   "cell_type": "code",
   "execution_count": 168,
   "metadata": {},
   "outputs": [],
   "source": [
    "a = 10"
   ]
  },
  {
   "cell_type": "code",
   "execution_count": 169,
   "metadata": {},
   "outputs": [
    {
     "name": "stdout",
     "output_type": "stream",
     "text": [
      "\u001b[0;31mType:\u001b[0m        int\n",
      "\u001b[0;31mString form:\u001b[0m 10\n",
      "\u001b[0;31mDocstring:\u001b[0m  \n",
      "int([x]) -> integer\n",
      "int(x, base=10) -> integer\n",
      "\n",
      "Convert a number or string to an integer, or return 0 if no arguments\n",
      "are given.  If x is a number, return x.__int__().  For floating point\n",
      "numbers, this truncates towards zero.\n",
      "\n",
      "If x is not a number or if base is given, then x must be a string,\n",
      "bytes, or bytearray instance representing an integer literal in the\n",
      "given base.  The literal can be preceded by '+' or '-' and be surrounded\n",
      "by whitespace.  The base defaults to 10.  Valid bases are 0 and 2-36.\n",
      "Base 0 means to interpret the base from the string as an integer literal.\n",
      ">>> int('0b100', base=0)\n",
      "4"
     ]
    }
   ],
   "source": [
    "a??"
   ]
  },
  {
   "cell_type": "code",
   "execution_count": 170,
   "metadata": {
    "slideshow": {
     "slide_type": "fragment"
    }
   },
   "outputs": [
    {
     "data": {
      "text/plain": [
       "array([5, 9, 5, 6, 4])"
      ]
     },
     "execution_count": 170,
     "metadata": {},
     "output_type": "execute_result"
    }
   ],
   "source": [
    "import numpy as np\n",
    "\n",
    "np.random.randint(10,size=5) # generates 5 random integers between 0 and 9 (inclusive)\n",
    "# np.random.randint(# of range (inclusive), size=number of random numbers to generate)\n",
    "## # of range indicate the maximum value that can be generated. In this case, 9."
   ]
  },
  {
   "cell_type": "markdown",
   "metadata": {
    "slideshow": {
     "slide_type": "slide"
    }
   },
   "source": [
    "# NumPy Datatypes"
   ]
  },
  {
   "cell_type": "markdown",
   "metadata": {
    "slideshow": {
     "slide_type": "fragment"
    }
   },
   "source": [
    "<font size=\"5\">\n",
    "    \n",
    "```\n",
    "bool_       Boolean (True or False) stored as a byte\n",
    "int_        Default integer type (same as C long; normally either int64 or int32)\n",
    "intc        Identical to C int (normally int32 or int64)\n",
    "intp        Integer used for indexing (same as C ssize_t; normally either int32 or int64)\n",
    "int8        Byte (-128 to 127)\n",
    "int16       Integer (-32768 to 32767)\n",
    "int32       Integer (-2147483648 to 2147483647)\n",
    "int64       Integer (-9223372036854775808 to 9223372036854775807)\n",
    "uint8       Unsigned integer (0 to 255)\n",
    "uint16      Unsigned integer (0 to 65535)\n",
    "uint32      Unsigned integer (0 to 4294967295)\n",
    "uint64      Unsigned integer (0 to 18446744073709551615)\n",
    "float_      Shorthand for float64.\n",
    "float16     Half precision float: sign bit, 5 bits exponent, 10 bits mantissa\n",
    "float32     Single precision float: sign bit, 8 bits exponent, 23 bits mantissa\n",
    "float64     Double precision float: sign bit, 11 bits exponent, 52 bits mantissa\n",
    "complex_    Shorthand for complex128.\n",
    "complex64   Complex number, represented by two 32-bit floats\n",
    "complex128  Complex number, represented by two 64-bit floats\n",
    "...\n",
    "```\n",
    "</font>"
   ]
  },
  {
   "cell_type": "markdown",
   "metadata": {
    "slideshow": {
     "slide_type": "slide"
    }
   },
   "source": [
    "# NumPy Arrays\n",
    "\n",
    "## numpy.array() function\n",
    "\n",
    "- The `numpy.array()` function is used to create a NumPy array from a **Python list or tuple**.\n",
    "- The `numpy.array()` function takes a **single argument**, which is the input list or tuple."
   ]
  },
  {
   "cell_type": "code",
   "execution_count": 171,
   "metadata": {
    "slideshow": {
     "slide_type": "fragment"
    }
   },
   "outputs": [
    {
     "data": {
      "text/plain": [
       "array([1, 2, 3])"
      ]
     },
     "execution_count": 171,
     "metadata": {},
     "output_type": "execute_result"
    }
   ],
   "source": [
    "x = np.array([1,2,3]) # convert a python list to a numpy array\n",
    "x"
   ]
  },
  {
   "cell_type": "code",
   "execution_count": 172,
   "metadata": {
    "slideshow": {
     "slide_type": "fragment"
    }
   },
   "outputs": [
    {
     "data": {
      "text/plain": [
       "numpy.ndarray"
      ]
     },
     "execution_count": 172,
     "metadata": {},
     "output_type": "execute_result"
    }
   ],
   "source": [
    "type(x)"
   ]
  },
  {
   "cell_type": "code",
   "execution_count": 173,
   "metadata": {
    "slideshow": {
     "slide_type": "fragment"
    }
   },
   "outputs": [
    {
     "data": {
      "text/plain": [
       "dtype('int64')"
      ]
     },
     "execution_count": 173,
     "metadata": {},
     "output_type": "execute_result"
    }
   ],
   "source": [
    "# use dtype to show the datatype of the array\n",
    "x.dtype"
   ]
  },
  {
   "cell_type": "code",
   "execution_count": 174,
   "metadata": {
    "slideshow": {
     "slide_type": "fragment"
    }
   },
   "outputs": [
    {
     "data": {
      "text/plain": [
       "array(['1', 'two', '3'], dtype='<U21')"
      ]
     },
     "execution_count": 174,
     "metadata": {},
     "output_type": "execute_result"
    }
   ],
   "source": [
    "# np arrays can only contain one datatype and default to the most flexible type\n",
    "x = np.array([1,'two',3]) \n",
    "# we don't mix data type in the python list and convert it to numpy array\n",
    "x"
   ]
  },
  {
   "cell_type": "code",
   "execution_count": 175,
   "metadata": {
    "slideshow": {
     "slide_type": "fragment"
    }
   },
   "outputs": [
    {
     "data": {
      "text/plain": [
       "dtype('<U21')"
      ]
     },
     "execution_count": 175,
     "metadata": {},
     "output_type": "execute_result"
    }
   ],
   "source": [
    "x.dtype # it will give the unassigned data type due to mixing data type in the list"
   ]
  },
  {
   "cell_type": "code",
   "execution_count": 176,
   "metadata": {
    "slideshow": {
     "slide_type": "fragment"
    }
   },
   "outputs": [
    {
     "data": {
      "text/plain": [
       "array([0., 0., 0., 0., 0.])"
      ]
     },
     "execution_count": 176,
     "metadata": {},
     "output_type": "execute_result"
    }
   ],
   "source": [
    "# many different ways to create numpy arrays\n",
    "np.zeros(5,dtype=float)\n",
    "\n",
    "# np.zeros() creates an array of zeros with the specified size and data type\n",
    "# np.zeros(# of elements (here is zeros), dtype=data type)"
   ]
  },
  {
   "cell_type": "markdown",
   "metadata": {
    "slideshow": {
     "slide_type": "slide"
    }
   },
   "source": [
    "# NumPy Array Indexing"
   ]
  },
  {
   "cell_type": "markdown",
   "metadata": {
    "slideshow": {
     "slide_type": "fragment"
    }
   },
   "source": [
    "- For single indices, works the same as list"
   ]
  },
  {
   "cell_type": "code",
   "execution_count": 177,
   "metadata": {
    "slideshow": {
     "slide_type": "fragment"
    }
   },
   "outputs": [
    {
     "data": {
      "text/plain": [
       "array([1, 2, 3, 4, 5])"
      ]
     },
     "execution_count": 177,
     "metadata": {},
     "output_type": "execute_result"
    }
   ],
   "source": [
    "x = np.arange(1,6) \n",
    "# np.arange(start (element inclusive), stop (element exclusive), step (# of steps to skip))\n",
    "x"
   ]
  },
  {
   "cell_type": "code",
   "execution_count": 178,
   "metadata": {
    "slideshow": {
     "slide_type": "fragment"
    }
   },
   "outputs": [
    {
     "data": {
      "text/plain": [
       "(1, 5, 4, 2)"
      ]
     },
     "execution_count": 178,
     "metadata": {},
     "output_type": "execute_result"
    }
   ],
   "source": [
    "x[0], x[-1], x[-2], x[-4]"
   ]
  },
  {
   "cell_type": "markdown",
   "metadata": {
    "slideshow": {
     "slide_type": "slide"
    }
   },
   "source": [
    "# NumPy Array Slicing"
   ]
  },
  {
   "cell_type": "code",
   "execution_count": 179,
   "metadata": {
    "slideshow": {
     "slide_type": "fragment"
    }
   },
   "outputs": [
    {
     "data": {
      "text/plain": [
       "array([0, 1, 2, 3, 4])"
      ]
     },
     "execution_count": 179,
     "metadata": {},
     "output_type": "execute_result"
    }
   ],
   "source": [
    "x = np.arange(5) # note that in numpy it's arange (array range) instead of range\n",
    "x"
   ]
  },
  {
   "cell_type": "code",
   "execution_count": 180,
   "metadata": {
    "slideshow": {
     "slide_type": "fragment"
    }
   },
   "outputs": [
    {
     "data": {
      "text/plain": [
       "array([0, 1])"
      ]
     },
     "execution_count": 180,
     "metadata": {},
     "output_type": "execute_result"
    }
   ],
   "source": [
    "# return first two items, start:end (exclusive)\n",
    "x[0:2]\n",
    "\n",
    "# x[index of first item (inclusive) : index of last item + 1 (exclusive)]\n",
    "# x[0 (index of first item => 0) : 2 (index of second item + 1 => 1)]"
   ]
  },
  {
   "cell_type": "code",
   "execution_count": 181,
   "metadata": {
    "slideshow": {
     "slide_type": "fragment"
    }
   },
   "outputs": [
    {
     "data": {
      "text/plain": [
       "array([0, 1, 2, 3])"
      ]
     },
     "execution_count": 181,
     "metadata": {},
     "output_type": "execute_result"
    }
   ],
   "source": [
    "# missing start implies position 0\n",
    "x[:4]\n",
    "\n",
    "# x[: index of last item + 1] => it will return all the elements from the start of array to the index of last item + 1"
   ]
  },
  {
   "cell_type": "code",
   "execution_count": 182,
   "metadata": {
    "scrolled": false,
    "slideshow": {
     "slide_type": "fragment"
    }
   },
   "outputs": [
    {
     "data": {
      "text/plain": [
       "array([2, 3, 4])"
      ]
     },
     "execution_count": 182,
     "metadata": {},
     "output_type": "execute_result"
    }
   ],
   "source": [
    "# missing end implies length of array\n",
    "x[2:]\n",
    "\n",
    "# x[index of first item: ] => it will return all the elements from the index of first item to the end of the array"
   ]
  },
  {
   "cell_type": "code",
   "execution_count": 183,
   "metadata": {
    "slideshow": {
     "slide_type": "fragment"
    }
   },
   "outputs": [
    {
     "data": {
      "text/plain": [
       "array([2, 3, 4])"
      ]
     },
     "execution_count": 183,
     "metadata": {},
     "output_type": "execute_result"
    }
   ],
   "source": [
    "# return last 3 items\n",
    "x[-3:] # - means reverse order\n",
    "\n",
    "# x[-3:] returns array without first 3 items"
   ]
  },
  {
   "cell_type": "code",
   "execution_count": 184,
   "metadata": {},
   "outputs": [
    {
     "data": {
      "text/plain": [
       "array([0, 1, 2])"
      ]
     },
     "execution_count": 184,
     "metadata": {},
     "output_type": "execute_result"
    }
   ],
   "source": [
    "x[: -2]\n",
    "\n",
    "# it return the array without the last two elements"
   ]
  },
  {
   "cell_type": "markdown",
   "metadata": {
    "slideshow": {
     "slide_type": "slide"
    }
   },
   "source": [
    "# NumPy Array Slicing with Steps"
   ]
  },
  {
   "cell_type": "code",
   "execution_count": 185,
   "metadata": {
    "slideshow": {
     "slide_type": "fragment"
    }
   },
   "outputs": [
    {
     "data": {
      "text/plain": [
       "array([0, 1, 2, 3, 4])"
      ]
     },
     "execution_count": 185,
     "metadata": {},
     "output_type": "execute_result"
    }
   ],
   "source": [
    "x"
   ]
  },
  {
   "cell_type": "code",
   "execution_count": 186,
   "metadata": {
    "slideshow": {
     "slide_type": "fragment"
    }
   },
   "outputs": [
    {
     "data": {
      "text/plain": [
       "array([1, 2, 3])"
      ]
     },
     "execution_count": 186,
     "metadata": {},
     "output_type": "execute_result"
    }
   ],
   "source": [
    "# return every other item from position 1 to 4 exclusive\n",
    "# start:end:step_size\n",
    "x[1:4:1] \n",
    "\n",
    "# x[start (first item index): end (last item index + 1): step_size]"
   ]
  },
  {
   "cell_type": "markdown",
   "metadata": {
    "slideshow": {
     "slide_type": "slide"
    }
   },
   "source": [
    "# Reverse array with step-size of -1"
   ]
  },
  {
   "cell_type": "code",
   "execution_count": 187,
   "metadata": {
    "slideshow": {
     "slide_type": "fragment"
    }
   },
   "outputs": [
    {
     "data": {
      "text/plain": [
       "array([0, 1, 2, 3, 4])"
      ]
     },
     "execution_count": 187,
     "metadata": {},
     "output_type": "execute_result"
    }
   ],
   "source": [
    "x"
   ]
  },
  {
   "cell_type": "code",
   "execution_count": 188,
   "metadata": {
    "slideshow": {
     "slide_type": "fragment"
    }
   },
   "outputs": [
    {
     "data": {
      "text/plain": [
       "array([4, 3, 2, 1, 0])"
      ]
     },
     "execution_count": 188,
     "metadata": {},
     "output_type": "execute_result"
    }
   ],
   "source": [
    "x[::-1]\n",
    "\n",
    "# x[::-1] means to reverse the order of the elements in the array x with step 1"
   ]
  },
  {
   "cell_type": "code",
   "execution_count": 189,
   "metadata": {},
   "outputs": [
    {
     "data": {
      "text/plain": [
       "array([4, 2, 0])"
      ]
     },
     "execution_count": 189,
     "metadata": {},
     "output_type": "execute_result"
    }
   ],
   "source": [
    "x[::-2] # reverse the array with taking 2 steps"
   ]
  },
  {
   "cell_type": "markdown",
   "metadata": {
    "slideshow": {
     "slide_type": "slide"
    }
   },
   "source": [
    "# NumPy Fancy Indexing"
   ]
  },
  {
   "cell_type": "markdown",
   "metadata": {
    "slideshow": {
     "slide_type": "fragment"
    }
   },
   "source": [
    "- Accessing multiple, non-consecutive indices at once using a list"
   ]
  },
  {
   "cell_type": "code",
   "execution_count": 190,
   "metadata": {
    "slideshow": {
     "slide_type": "fragment"
    }
   },
   "outputs": [
    {
     "data": {
      "text/plain": [
       "array([5, 6, 7, 8, 9])"
      ]
     },
     "execution_count": 190,
     "metadata": {},
     "output_type": "execute_result"
    }
   ],
   "source": [
    "x = np.arange(5,10)\n",
    "\n",
    "# np.arange(first item, last item+1, step size)\n",
    "\n",
    "x"
   ]
  },
  {
   "cell_type": "code",
   "execution_count": 191,
   "metadata": {
    "slideshow": {
     "slide_type": "fragment"
    }
   },
   "outputs": [
    {
     "data": {
      "text/plain": [
       "array([5, 8])"
      ]
     },
     "execution_count": 191,
     "metadata": {},
     "output_type": "execute_result"
    }
   ],
   "source": [
    "x[[0,3]]\n",
    "\n",
    "# x[[item 1 index : item 2 index .....]] => it can extract a sublist from the numpy array based on the given index range and step."
   ]
  },
  {
   "cell_type": "code",
   "execution_count": 192,
   "metadata": {
    "slideshow": {
     "slide_type": "fragment"
    }
   },
   "outputs": [
    {
     "data": {
      "text/plain": [
       "array([5, 7, 9])"
      ]
     },
     "execution_count": 192,
     "metadata": {},
     "output_type": "execute_result"
    }
   ],
   "source": [
    "x[[0,2,-1]]\n",
    "\n",
    "# there is no index rule in numpy indexing. It is just a list of indices.\n"
   ]
  },
  {
   "cell_type": "markdown",
   "metadata": {
    "slideshow": {
     "slide_type": "slide"
    }
   },
   "source": [
    "# Boolean Indexing using a Boolean Mask\n",
    "\n",
    "## it selects everything in the array and returns a new array with only the values that correspond to the True values in the mask.\n",
    "## The mask is a boolean array with the same shape as the original array."
   ]
  },
  {
   "cell_type": "code",
   "execution_count": 193,
   "metadata": {
    "slideshow": {
     "slide_type": "fragment"
    }
   },
   "outputs": [
    {
     "data": {
      "text/plain": [
       "array([5, 6, 7, 8, 9])"
      ]
     },
     "execution_count": 193,
     "metadata": {},
     "output_type": "execute_result"
    }
   ],
   "source": [
    "x\n",
    "# x is the numpy array [5, 6, 7, 8, 9]"
   ]
  },
  {
   "cell_type": "code",
   "execution_count": 194,
   "metadata": {
    "slideshow": {
     "slide_type": "fragment"
    }
   },
   "outputs": [
    {
     "data": {
      "text/plain": [
       "array([False,  True, False,  True, False])"
      ]
     },
     "execution_count": 194,
     "metadata": {},
     "output_type": "execute_result"
    }
   ],
   "source": [
    "# Which indices have a value divisible by 2?\n",
    "# mod operator % returns remainder of division\n",
    "x%2 == 0\n",
    "\n",
    "# it will return the boolean array with True for indices where the condition is True"
   ]
  },
  {
   "cell_type": "code",
   "execution_count": 195,
   "metadata": {
    "slideshow": {
     "slide_type": "fragment"
    }
   },
   "outputs": [
    {
     "data": {
      "text/plain": [
       "array([6, 8])"
      ]
     },
     "execution_count": 195,
     "metadata": {},
     "output_type": "execute_result"
    }
   ],
   "source": [
    "# Which values are divisible by 2?\n",
    "x[x%2 == 0]\n",
    "\n",
    "# x[condition expression] will return the array of values of x where the condition expression is True. \n",
    "# In this case, the condition expression is x%2 == 0, which checks if the remainder of x divided by 2 is 0."
   ]
  },
  {
   "cell_type": "code",
   "execution_count": 196,
   "metadata": {
    "slideshow": {
     "slide_type": "fragment"
    }
   },
   "outputs": [
    {
     "data": {
      "text/plain": [
       "array([5, 6, 7, 8, 9])"
      ]
     },
     "execution_count": 196,
     "metadata": {},
     "output_type": "execute_result"
    }
   ],
   "source": [
    "# Which values are greater than 6?\n",
    "x[x >= 2]"
   ]
  },
  {
   "cell_type": "markdown",
   "metadata": {
    "slideshow": {
     "slide_type": "slide"
    }
   },
   "source": [
    "# Boolean Indexing And Bitwise Operators"
   ]
  },
  {
   "cell_type": "code",
   "execution_count": 197,
   "metadata": {
    "slideshow": {
     "slide_type": "fragment"
    }
   },
   "outputs": [
    {
     "data": {
      "text/plain": [
       "array([5, 6, 7, 8, 9])"
      ]
     },
     "execution_count": 197,
     "metadata": {},
     "output_type": "execute_result"
    }
   ],
   "source": [
    "x"
   ]
  },
  {
   "cell_type": "code",
   "execution_count": 198,
   "metadata": {
    "slideshow": {
     "slide_type": "fragment"
    }
   },
   "outputs": [
    {
     "data": {
      "text/plain": [
       "array([False,  True, False,  True, False])"
      ]
     },
     "execution_count": 198,
     "metadata": {},
     "output_type": "execute_result"
    }
   ],
   "source": [
    "(x%2 == 0)\n",
    "\n",
    "# (condition expression) will return boolean array with True for elements where condition is True and False for elements where condition is False."
   ]
  },
  {
   "cell_type": "code",
   "execution_count": 199,
   "metadata": {
    "slideshow": {
     "slide_type": "fragment"
    }
   },
   "outputs": [
    {
     "data": {
      "text/plain": [
       "array([False, False,  True,  True,  True])"
      ]
     },
     "execution_count": 199,
     "metadata": {},
     "output_type": "execute_result"
    }
   ],
   "source": [
    "(x > 6)"
   ]
  },
  {
   "cell_type": "markdown",
   "metadata": {},
   "source": [
    "## mid-term notice"
   ]
  },
  {
   "cell_type": "code",
   "execution_count": 200,
   "metadata": {},
   "outputs": [
    {
     "data": {
      "text/plain": [
       "array([5, 6, 7, 8, 9])"
      ]
     },
     "execution_count": 200,
     "metadata": {},
     "output_type": "execute_result"
    }
   ],
   "source": [
    "x"
   ]
  },
  {
   "cell_type": "code",
   "execution_count": 201,
   "metadata": {
    "slideshow": {
     "slide_type": "fragment"
    },
    "tags": [
     "raises-exception"
    ]
   },
   "outputs": [
    {
     "ename": "ValueError",
     "evalue": "The truth value of an array with more than one element is ambiguous. Use a.any() or a.all()",
     "output_type": "error",
     "traceback": [
      "\u001b[0;31m---------------------------------------------------------------------------\u001b[0m",
      "\u001b[0;31mValueError\u001b[0m                                Traceback (most recent call last)",
      "Cell \u001b[0;32mIn[201], line 3\u001b[0m\n\u001b[1;32m      1\u001b[0m \u001b[38;5;66;03m# Which values are divisible by 2 AND greater than 6?\u001b[39;00m\n\u001b[1;32m      2\u001b[0m \u001b[38;5;66;03m# 'and' expexts both elements to be boolean, not arrays of booleans!\u001b[39;00m\n\u001b[0;32m----> 3\u001b[0m (x\u001b[38;5;241m%\u001b[39m\u001b[38;5;241m2\u001b[39m \u001b[38;5;241m==\u001b[39m \u001b[38;5;241m0\u001b[39m) \u001b[38;5;129;01mand\u001b[39;00m (x \u001b[38;5;241m>\u001b[39m \u001b[38;5;241m6\u001b[39m) \u001b[38;5;66;03m# each expression returns boolean array\u001b[39;00m\n\u001b[1;32m      5\u001b[0m \u001b[38;5;66;03m# boolean array cannot be combined by \"and\" \"or\" \"not\"\u001b[39;00m\n\u001b[1;32m      6\u001b[0m \u001b[38;5;66;03m# boolean array can be combined by \"&\" \"|\" \"~\"\u001b[39;00m\n",
      "\u001b[0;31mValueError\u001b[0m: The truth value of an array with more than one element is ambiguous. Use a.any() or a.all()"
     ]
    }
   ],
   "source": [
    "# Which values are divisible by 2 AND greater than 6?\n",
    "# 'and' expexts both elements to be boolean, not arrays of booleans!\n",
    "(x%2 == 0) and (x > 6) # each expression returns boolean array\n",
    "\n",
    "# boolean array cannot be combined by \"and\" \"or\" \"not\"\n",
    "# boolean array can be combined by \"&\" \"|\" \"~\""
   ]
  },
  {
   "cell_type": "code",
   "execution_count": 202,
   "metadata": {},
   "outputs": [
    {
     "name": "stdout",
     "output_type": "stream",
     "text": [
      "True\n"
     ]
    }
   ],
   "source": [
    "# \"and\", \"or\", and \"not\" for logical operations on individual boolean values, not for element-wise operations on arrays or lists.\n",
    "\n",
    "a = 5\n",
    "b = 10\n",
    "\n",
    "print(a < b and b > a)"
   ]
  },
  {
   "cell_type": "code",
   "execution_count": 203,
   "metadata": {},
   "outputs": [
    {
     "data": {
      "text/plain": [
       "array([5, 6, 7, 8, 9])"
      ]
     },
     "execution_count": 203,
     "metadata": {},
     "output_type": "execute_result"
    }
   ],
   "source": [
    "x"
   ]
  },
  {
   "cell_type": "code",
   "execution_count": 204,
   "metadata": {
    "slideshow": {
     "slide_type": "fragment"
    }
   },
   "outputs": [
    {
     "data": {
      "text/plain": [
       "array([False, False, False,  True, False])"
      ]
     },
     "execution_count": 204,
     "metadata": {},
     "output_type": "execute_result"
    }
   ],
   "source": [
    "# & compares each element pairwise\n",
    "(x%2 == 0) & (x > 6) # (condition1 & condition2) acts as boolean numpy array and returns True or False for each element in array.\n",
    "\n",
    "# it can return a boolean array with True for each element that satisfies both conditions and False for those that don't."
   ]
  },
  {
   "cell_type": "code",
   "execution_count": 205,
   "metadata": {},
   "outputs": [
    {
     "data": {
      "text/plain": [
       "array([8])"
      ]
     },
     "execution_count": 205,
     "metadata": {},
     "output_type": "execute_result"
    }
   ],
   "source": [
    "x[np.array([False, False, False,  True, False])]\n",
    "\n",
    "# it returns the elements of x that are not False with format of numpy array"
   ]
  },
  {
   "cell_type": "code",
   "execution_count": 206,
   "metadata": {
    "scrolled": true,
    "slideshow": {
     "slide_type": "fragment"
    }
   },
   "outputs": [
    {
     "data": {
      "text/plain": [
       "array([8])"
      ]
     },
     "execution_count": 206,
     "metadata": {},
     "output_type": "execute_result"
    }
   ],
   "source": [
    "x[(x%2 == 0) & (x > 6)] \n",
    "\n",
    "# list[(condition)] will return a array of items that satisfy the condition."
   ]
  },
  {
   "cell_type": "markdown",
   "metadata": {
    "slideshow": {
     "slide_type": "slide"
    }
   },
   "source": [
    "# Boolean Indexing And Bitwise Operators"
   ]
  },
  {
   "cell_type": "markdown",
   "metadata": {
    "slideshow": {
     "slide_type": "fragment"
    }
   },
   "source": [
    "- and : `&` (ampersand)"
   ]
  },
  {
   "cell_type": "code",
   "execution_count": 207,
   "metadata": {
    "slideshow": {
     "slide_type": "fragment"
    }
   },
   "outputs": [
    {
     "data": {
      "text/plain": [
       "array([8])"
      ]
     },
     "execution_count": 207,
     "metadata": {},
     "output_type": "execute_result"
    }
   ],
   "source": [
    "# Which values are even AND greater than 6?\n",
    "x[(x%2 == 0) & (x > 6)]\n",
    "\n",
    "# & is the intersection operator, which means it returns only the values that are present in both arrays."
   ]
  },
  {
   "cell_type": "markdown",
   "metadata": {
    "slideshow": {
     "slide_type": "fragment"
    }
   },
   "source": [
    "- or : `|` (pipe)"
   ]
  },
  {
   "cell_type": "code",
   "execution_count": 208,
   "metadata": {
    "scrolled": true,
    "slideshow": {
     "slide_type": "fragment"
    }
   },
   "outputs": [
    {
     "data": {
      "text/plain": [
       "array([6, 7, 8, 9])"
      ]
     },
     "execution_count": 208,
     "metadata": {},
     "output_type": "execute_result"
    }
   ],
   "source": [
    "# which values are even OR greater than 6?\n",
    "x[(x%2 == 0) | (x > 6)]\n",
    "\n",
    "# | is the OR operator, which means it returns the values that are either even or greater than 6 (whole set)"
   ]
  },
  {
   "cell_type": "markdown",
   "metadata": {
    "slideshow": {
     "slide_type": "fragment"
    }
   },
   "source": [
    "- not : `~` (tilde)"
   ]
  },
  {
   "cell_type": "code",
   "execution_count": 209,
   "metadata": {},
   "outputs": [
    {
     "data": {
      "text/plain": [
       "array([False,  True,  True,  True,  True])"
      ]
     },
     "execution_count": 209,
     "metadata": {},
     "output_type": "execute_result"
    }
   ],
   "source": [
    "( (x%2 == 0) | (x > 6) )"
   ]
  },
  {
   "cell_type": "code",
   "execution_count": 210,
   "metadata": {},
   "outputs": [
    {
     "data": {
      "text/plain": [
       "array([ True, False, False, False, False])"
      ]
     },
     "execution_count": 210,
     "metadata": {},
     "output_type": "execute_result"
    }
   ],
   "source": [
    "~( (x%2 == 0) | (x > 6) )\n",
    "\n",
    "# ~ is NOT operator, it returns the boolean value of the opposite of the expression inside the parentheses."
   ]
  },
  {
   "cell_type": "code",
   "execution_count": 211,
   "metadata": {
    "slideshow": {
     "slide_type": "fragment"
    }
   },
   "outputs": [
    {
     "data": {
      "text/plain": [
       "array([5])"
      ]
     },
     "execution_count": 211,
     "metadata": {},
     "output_type": "execute_result"
    }
   ],
   "source": [
    "# which values are NOT (even OR greater than 6)\n",
    "x[~( (x%2 == 0) | (x > 6) )]"
   ]
  },
  {
   "cell_type": "markdown",
   "metadata": {
    "slideshow": {
     "slide_type": "fragment"
    }
   },
   "source": [
    "- see [PDHS](https://jakevdp.github.io/PythonDataScienceHandbook/02.06-boolean-arrays-and-masks.html) for more info"
   ]
  },
  {
   "cell_type": "markdown",
   "metadata": {
    "slideshow": {
     "slide_type": "slide"
    }
   },
   "source": [
    "# Indexing Review"
   ]
  },
  {
   "cell_type": "markdown",
   "metadata": {
    "slideshow": {
     "slide_type": "fragment"
    }
   },
   "source": [
    "- standard array indexing (including reverse/negative)\n",
    "<br>\n",
    "\n",
    "- slicing [start:end:step-size]\n",
    "<br>\n",
    "\n",
    "- fancy indexing (list/array of indices)\n",
    "<br>\n",
    "\n",
    "- boolean indexing (list/array of booleans)"
   ]
  },
  {
   "cell_type": "markdown",
   "metadata": {
    "slideshow": {
     "slide_type": "slide"
    }
   },
   "source": [
    "# Multidimensional Lists"
   ]
  },
  {
   "cell_type": "code",
   "execution_count": 213,
   "metadata": {
    "slideshow": {
     "slide_type": "fragment"
    }
   },
   "outputs": [
    {
     "data": {
      "text/plain": [
       "[[1, 2, 3], [4, 5, 6]]"
      ]
     },
     "execution_count": 213,
     "metadata": {},
     "output_type": "execute_result"
    }
   ],
   "source": [
    "x = [[1,2,3],[4,5,6]] # list of lists\n",
    "\n",
    "# [[list1], [list2]] represent 2 sub-lists in the original list\n",
    "\n",
    "x"
   ]
  },
  {
   "cell_type": "code",
   "execution_count": 214,
   "metadata": {
    "slideshow": {
     "slide_type": "fragment"
    }
   },
   "outputs": [
    {
     "data": {
      "text/plain": [
       "[1, 2, 3]"
      ]
     },
     "execution_count": 214,
     "metadata": {},
     "output_type": "execute_result"
    }
   ],
   "source": [
    "# return first row\n",
    "x[0]\n",
    "\n",
    "# x[index for rows, index for columns]"
   ]
  },
  {
   "cell_type": "code",
   "execution_count": 215,
   "metadata": {
    "slideshow": {
     "slide_type": "fragment"
    }
   },
   "outputs": [
    {
     "data": {
      "text/plain": [
       "6"
      ]
     },
     "execution_count": 215,
     "metadata": {},
     "output_type": "execute_result"
    }
   ],
   "source": [
    "# return first row, second column\n",
    "x[1][2] "
   ]
  },
  {
   "cell_type": "code",
   "execution_count": 216,
   "metadata": {
    "slideshow": {
     "slide_type": "fragment"
    }
   },
   "outputs": [
    {
     "data": {
      "text/plain": [
       "[2, 5]"
      ]
     },
     "execution_count": 216,
     "metadata": {},
     "output_type": "execute_result"
    }
   ],
   "source": [
    "# return second column?\n",
    "[row[1] for row in x]"
   ]
  },
  {
   "cell_type": "markdown",
   "metadata": {
    "slideshow": {
     "slide_type": "slide"
    }
   },
   "source": [
    "# NumPy Multidimensional Arrays"
   ]
  },
  {
   "cell_type": "code",
   "execution_count": 217,
   "metadata": {
    "slideshow": {
     "slide_type": "fragment"
    }
   },
   "outputs": [
    {
     "data": {
      "text/plain": [
       "array([[1, 2, 3],\n",
       "       [4, 5, 6]])"
      ]
     },
     "execution_count": 217,
     "metadata": {},
     "output_type": "execute_result"
    }
   ],
   "source": [
    "# To convert the list of lists into a 2D numpy array, we can use the numpy.array() function:\n",
    "x = np.array([[1,2,3],[4,5,6]])\n",
    "x"
   ]
  },
  {
   "cell_type": "code",
   "execution_count": 218,
   "metadata": {
    "slideshow": {
     "slide_type": "fragment"
    }
   },
   "outputs": [
    {
     "data": {
      "text/plain": [
       "2"
      ]
     },
     "execution_count": 218,
     "metadata": {},
     "output_type": "execute_result"
    }
   ],
   "source": [
    "x[0,1] # first row, second column\n",
    "\n",
    "# x[index for row item, index for column item]"
   ]
  },
  {
   "cell_type": "code",
   "execution_count": 160,
   "metadata": {
    "slideshow": {
     "slide_type": "fragment"
    }
   },
   "outputs": [
    {
     "data": {
      "text/plain": [
       "array([2, 5])"
      ]
     },
     "execution_count": 160,
     "metadata": {},
     "output_type": "execute_result"
    }
   ],
   "source": [
    "x[:,1] # first row\n",
    "\n",
    "# x[:, column indexing] will return all the rows with the specified column index."
   ]
  },
  {
   "cell_type": "code",
   "execution_count": 219,
   "metadata": {
    "slideshow": {
     "slide_type": "fragment"
    }
   },
   "outputs": [
    {
     "data": {
      "text/plain": [
       "array([1, 2, 3])"
      ]
     },
     "execution_count": 219,
     "metadata": {},
     "output_type": "execute_result"
    }
   ],
   "source": [
    "x[0,:] # first row (first to last column)\n",
    "\n",
    "# x[row indexing, :] will return all the columns of the specified row."
   ]
  },
  {
   "cell_type": "code",
   "execution_count": 220,
   "metadata": {
    "slideshow": {
     "slide_type": "fragment"
    }
   },
   "outputs": [
    {
     "data": {
      "text/plain": [
       "array([2, 5])"
      ]
     },
     "execution_count": 220,
     "metadata": {},
     "output_type": "execute_result"
    }
   ],
   "source": [
    "x[:,1] # second column (first to last row)"
   ]
  },
  {
   "cell_type": "markdown",
   "metadata": {
    "slideshow": {
     "slide_type": "slide"
    }
   },
   "source": [
    "# NumPy Array Attributes"
   ]
  },
  {
   "cell_type": "code",
   "execution_count": 226,
   "metadata": {
    "slideshow": {
     "slide_type": "fragment"
    }
   },
   "outputs": [
    {
     "data": {
      "text/plain": [
       "array([[1, 2, 3],\n",
       "       [4, 5, 6]])"
      ]
     },
     "execution_count": 226,
     "metadata": {},
     "output_type": "execute_result"
    }
   ],
   "source": [
    "x = np.array([[1,2,3],[4,5,6]])\n",
    "\n",
    "x"
   ]
  },
  {
   "cell_type": "code",
   "execution_count": 227,
   "metadata": {
    "slideshow": {
     "slide_type": "fragment"
    }
   },
   "outputs": [
    {
     "data": {
      "text/plain": [
       "2"
      ]
     },
     "execution_count": 227,
     "metadata": {},
     "output_type": "execute_result"
    }
   ],
   "source": [
    "x.ndim # number of dimensions\n",
    "\n",
    "# array.ndim is the number of dimensions of the array. \n",
    "# In this case, x has 2 dimensions, which is the row and column dimension. "
   ]
  },
  {
   "cell_type": "code",
   "execution_count": 228,
   "metadata": {
    "slideshow": {
     "slide_type": "fragment"
    }
   },
   "outputs": [
    {
     "data": {
      "text/plain": [
       "(2, 3)"
      ]
     },
     "execution_count": 228,
     "metadata": {},
     "output_type": "execute_result"
    }
   ],
   "source": [
    "x.shape # shape in each dimension\n",
    "\n",
    "# shape of row by column"
   ]
  },
  {
   "cell_type": "code",
   "execution_count": 166,
   "metadata": {
    "slideshow": {
     "slide_type": "fragment"
    }
   },
   "outputs": [
    {
     "data": {
      "text/plain": [
       "6"
      ]
     },
     "execution_count": 166,
     "metadata": {},
     "output_type": "execute_result"
    }
   ],
   "source": [
    "x.size # total number of elements"
   ]
  },
  {
   "cell_type": "markdown",
   "metadata": {
    "slideshow": {
     "slide_type": "slide"
    }
   },
   "source": [
    "# NumPy Operations (UFuncs)"
   ]
  },
  {
   "cell_type": "code",
   "execution_count": 230,
   "metadata": {
    "slideshow": {
     "slide_type": "fragment"
    }
   },
   "outputs": [],
   "source": [
    "x = [1,2,3]\n",
    "y = [4,5,6]"
   ]
  },
  {
   "cell_type": "code",
   "execution_count": 231,
   "metadata": {
    "slideshow": {
     "slide_type": "fragment"
    }
   },
   "outputs": [
    {
     "data": {
      "text/plain": [
       "[1, 2, 3, 4, 5, 6]"
      ]
     },
     "execution_count": 231,
     "metadata": {},
     "output_type": "execute_result"
    }
   ],
   "source": [
    "x+y\n",
    "\n",
    "# since x and y are lists, operating addition will only concatenate them but not perform any arithmetic operation."
   ]
  },
  {
   "cell_type": "code",
   "execution_count": 232,
   "metadata": {
    "slideshow": {
     "slide_type": "fragment"
    }
   },
   "outputs": [],
   "source": [
    "x = np.array([1,2,3])\n",
    "y = np.array([4,5,6])"
   ]
  },
  {
   "cell_type": "code",
   "execution_count": 170,
   "metadata": {
    "slideshow": {
     "slide_type": "fragment"
    }
   },
   "outputs": [
    {
     "data": {
      "text/plain": [
       "array([5, 7, 9])"
      ]
     },
     "execution_count": 170,
     "metadata": {},
     "output_type": "execute_result"
    }
   ],
   "source": [
    "x+y\n",
    "\n",
    "# Once we convert the list to a numpy array, we can perform mathematical operations on it (one to one) into a single row."
   ]
  },
  {
   "cell_type": "code",
   "execution_count": 235,
   "metadata": {
    "slideshow": {
     "slide_type": "fragment"
    }
   },
   "outputs": [
    {
     "name": "stdout",
     "output_type": "stream",
     "text": [
      "CPU times: user 739 ms, sys: 11.4 ms, total: 750 ms\n",
      "Wall time: 778 ms\n"
     ]
    },
    {
     "data": {
      "text/plain": [
       "4999999950000000"
      ]
     },
     "execution_count": 235,
     "metadata": {},
     "output_type": "execute_result"
    }
   ],
   "source": [
    "%time sum(range(0,int(1e8)))"
   ]
  },
  {
   "cell_type": "code",
   "execution_count": 236,
   "metadata": {
    "slideshow": {
     "slide_type": "fragment"
    }
   },
   "outputs": [
    {
     "name": "stdout",
     "output_type": "stream",
     "text": [
      "CPU times: user 78.2 ms, sys: 127 ms, total: 205 ms\n",
      "Wall time: 267 ms\n"
     ]
    },
    {
     "data": {
      "text/plain": [
       "4999999950000000"
      ]
     },
     "execution_count": 236,
     "metadata": {},
     "output_type": "execute_result"
    }
   ],
   "source": [
    "%time np.arange(0,int(1e8)).sum()"
   ]
  },
  {
   "cell_type": "markdown",
   "metadata": {
    "slideshow": {
     "slide_type": "slide"
    }
   },
   "source": [
    "# NumPy Broadcasting"
   ]
  },
  {
   "cell_type": "markdown",
   "metadata": {
    "slideshow": {
     "slide_type": "fragment"
    }
   },
   "source": [
    "Allows for vectorized computation on arrays of different sizes"
   ]
  },
  {
   "cell_type": "code",
   "execution_count": 237,
   "metadata": {
    "slideshow": {
     "slide_type": "fragment"
    }
   },
   "outputs": [],
   "source": [
    "# square every element in a list\n",
    "x = [1,2,3]"
   ]
  },
  {
   "cell_type": "code",
   "execution_count": 239,
   "metadata": {
    "slideshow": {
     "slide_type": "fragment"
    },
    "tags": [
     "raises-exception"
    ]
   },
   "outputs": [
    {
     "ename": "TypeError",
     "evalue": "unsupported operand type(s) for ** or pow(): 'list' and 'int'",
     "output_type": "error",
     "traceback": [
      "\u001b[0;31m---------------------------------------------------------------------------\u001b[0m",
      "\u001b[0;31mTypeError\u001b[0m                                 Traceback (most recent call last)",
      "Cell \u001b[0;32mIn[239], line 1\u001b[0m\n\u001b[0;32m----> 1\u001b[0m \u001b[43mx\u001b[49m\u001b[38;5;241;43m*\u001b[39;49m\u001b[38;5;241;43m*\u001b[39;49m\u001b[38;5;241;43m2\u001b[39;49m\n\u001b[1;32m      3\u001b[0m \u001b[38;5;66;03m# a python list will not be operated by the ** operator\u001b[39;00m\n",
      "\u001b[0;31mTypeError\u001b[0m: unsupported operand type(s) for ** or pow(): 'list' and 'int'"
     ]
    }
   ],
   "source": [
    "x**2\n",
    "\n",
    "# a python list will not be operated by the ** operator"
   ]
  },
  {
   "cell_type": "code",
   "execution_count": 240,
   "metadata": {
    "slideshow": {
     "slide_type": "fragment"
    }
   },
   "outputs": [],
   "source": [
    "# square every element in a numpy array\n",
    "x = np.array([1,2,3])"
   ]
  },
  {
   "cell_type": "code",
   "execution_count": 242,
   "metadata": {
    "slideshow": {
     "slide_type": "fragment"
    }
   },
   "outputs": [
    {
     "data": {
      "text/plain": [
       "array([1, 4, 9])"
      ]
     },
     "execution_count": 242,
     "metadata": {},
     "output_type": "execute_result"
    }
   ],
   "source": [
    "x**2\n",
    "\n",
    "# numpy array can operate each element of the array"
   ]
  },
  {
   "cell_type": "markdown",
   "metadata": {},
   "source": [
    "## Numpy Broadcasting\n",
    "\n",
    "### a numpy array is a high-dimensional array that can be used to perform mathematical operations on vectors and matrices.\n",
    "### since an array is a **higher dimensional object**, it can be mathematically operated on with **another array of the same shape or a scalar value**"
   ]
  },
  {
   "cell_type": "code",
   "execution_count": 245,
   "metadata": {
    "scrolled": false,
    "slideshow": {
     "slide_type": "fragment"
    }
   },
   "outputs": [
    {
     "data": {
      "text/plain": [
       "array([2., 4., 6.])"
      ]
     },
     "execution_count": 245,
     "metadata": {},
     "output_type": "execute_result"
    }
   ],
   "source": [
    "a = np.array([1.0, 2.0, 3.0]) # it is a 1D array which is higher dimensional than a scalar or a value.\n",
    "b = 2.0 # it is a scalar value object.\n",
    "a * b # an array (higher dimension) can be multiplied by a scalar value (lower dimension)."
   ]
  },
  {
   "cell_type": "markdown",
   "metadata": {
    "slideshow": {
     "slide_type": "fragment"
    }
   },
   "source": [
    "is equivalent to "
   ]
  },
  {
   "cell_type": "code",
   "execution_count": 246,
   "metadata": {
    "slideshow": {
     "slide_type": "fragment"
    }
   },
   "outputs": [
    {
     "data": {
      "text/plain": [
       "array([2., 4., 6.])"
      ]
     },
     "execution_count": 246,
     "metadata": {},
     "output_type": "execute_result"
    }
   ],
   "source": [
    "a = np.array([1.0, 2.0, 3.0])\n",
    "b = np.array([2.0, 2.0, 2.0])\n",
    "a * b"
   ]
  },
  {
   "cell_type": "markdown",
   "metadata": {
    "slideshow": {
     "slide_type": "slide"
    }
   },
   "source": [
    "# NumPy `random` Submodule"
   ]
  },
  {
   "cell_type": "markdown",
   "metadata": {
    "slideshow": {
     "slide_type": "fragment"
    }
   },
   "source": [
    "Provides many random sampling functions"
   ]
  },
  {
   "cell_type": "code",
   "execution_count": 247,
   "metadata": {},
   "outputs": [],
   "source": [
    "from numpy.random import seed, randn"
   ]
  },
  {
   "cell_type": "code",
   "execution_count": 250,
   "metadata": {},
   "outputs": [],
   "source": [
    "seed(1991)\n",
    "# setting a seed can help ensure that the results are reproducible"
   ]
  },
  {
   "cell_type": "code",
   "execution_count": 266,
   "metadata": {},
   "outputs": [
    {
     "data": {
      "text/plain": [
       "array([-1.0312311 ,  0.89968648, -0.58933691,  2.01752653,  1.68102644,\n",
       "        0.40037836, -0.18176497,  1.53308122, -0.211595  ,  1.3531789 ])"
      ]
     },
     "execution_count": 266,
     "metadata": {},
     "output_type": "execute_result"
    }
   ],
   "source": [
    "randn(10)"
   ]
  },
  {
   "cell_type": "markdown",
   "metadata": {
    "slideshow": {
     "slide_type": "fragment"
    }
   },
   "source": [
    "`from numpy.random import ...`\n",
    "\n",
    "- `rand` : random floats\n",
    "\n",
    "- `randint` : random integers\n",
    "\n",
    "- `randn` : standard normal distribution\n",
    "\n",
    "- `permutation` : random permutation\n",
    "\n",
    "- `normal` : Gaussian normal distribution\n",
    "\n",
    "- `seed` : seed the random generator"
   ]
  },
  {
   "cell_type": "markdown",
   "metadata": {
    "slideshow": {
     "slide_type": "slide"
    }
   },
   "source": [
    "<br>\n",
    "<br>\n",
    "\n",
    "# <center>Questions?</center>\n",
    "<br>\n",
    "<br>"
   ]
  }
 ],
 "metadata": {
  "celltoolbar": "Slideshow",
  "kernelspec": {
   "display_name": "eods",
   "language": "python",
   "name": "python3"
  },
  "language_info": {
   "codemirror_mode": {
    "name": "ipython",
    "version": 3
   },
   "file_extension": ".py",
   "mimetype": "text/x-python",
   "name": "python",
   "nbconvert_exporter": "python",
   "pygments_lexer": "ipython3",
   "version": "3.9.18"
  },
  "toc": {
   "base_numbering": 1,
   "nav_menu": {},
   "number_sections": false,
   "sideBar": true,
   "skip_h1_title": false,
   "title_cell": "Table of Contents",
   "title_sidebar": "Contents",
   "toc_cell": false,
   "toc_position": {},
   "toc_section_display": true,
   "toc_window_display": false
  }
 },
 "nbformat": 4,
 "nbformat_minor": 4
}
