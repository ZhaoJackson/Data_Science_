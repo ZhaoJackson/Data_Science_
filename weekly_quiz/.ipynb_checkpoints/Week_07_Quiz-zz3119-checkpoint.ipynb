{
 "cells": [
  {
   "cell_type": "markdown",
   "metadata": {},
   "source": [
    "# Week 7 Quiz\n",
    "\n",
    "## Zichen Zhao (Jackson) - zz3119\n",
    "\n",
    "### Due Mon Nov 18, 11:59pm ET\n",
    "\n",
    "In this quiz we will practice creating a train/test split and compare training and test set accuracy of a trained Decision Tree model against a baseline.\n",
    "\n",
    "### Instructions\n",
    "\n",
    "Replace the Name and UNI in cell above and the notebook filename\n",
    "\n",
    "Replace all '____' below using the instructions provided.\n",
    "\n",
    "When completed, \n",
    " 1. make sure you've replaced Name and UNI in the first cell and filename\n",
    " 2. Kernel -> Restart & Run All to run all cells in order \n",
    " 3. Print Preview -> Print (Landscape Layout) -> Save to pdf \n",
    " 4. post pdf to GradeScope"
   ]
  },
  {
   "cell_type": "code",
   "execution_count": 1,
   "metadata": {},
   "outputs": [],
   "source": [
    "import numpy as np\n",
    "from collections import Counter\n",
    "from sklearn.datasets import load_breast_cancer"
   ]
  },
  {
   "cell_type": "code",
   "execution_count": 2,
   "metadata": {},
   "outputs": [
    {
     "name": "stdout",
     "output_type": "stream",
     "text": [
      "num observations:    569\n",
      "num features:        30\n",
      "target value counts: {0: 212, 1: 357}\n"
     ]
    }
   ],
   "source": [
    "# Load the sample breast_cancer dataset from Scikit-Learn returning just the \n",
    "#   X features and y label (instead of the full Bunch data-structure)\n",
    "#   This is a common binary classification task dataset used for demonstration.\n",
    "#   For more information, see:\n",
    "#     https://scikit-learn.org/stable/datasets/index.html#breast-cancer-dataset\n",
    "X,y = load_breast_cancer(return_X_y=True)\n",
    "\n",
    "print(f'num observations:    {X.shape[0]}')\n",
    "print(f'num features:        {X.shape[1]}')\n",
    "print(f'target value counts: {dict(Counter(y))}')"
   ]
  },
  {
   "cell_type": "code",
   "execution_count": 3,
   "metadata": {},
   "outputs": [],
   "source": [
    "# Import the train_test_split function from sklearn.model_selection\n",
    "from sklearn.model_selection import train_test_split\n",
    "\n",
    "# Split X and y into X_train,X_test,y_train,y_test \n",
    "#    using train_test_split, \n",
    "#    stratify using y, \n",
    "#    and use the default test_size of 0.25.\n",
    "X_train, X_test, y_train, y_test = train_test_split(X, y, stratify=y, test_size=0.25)\n",
    "\n",
    "# Check that the distribution of classes is similar in train and test\n",
    "assert ((y_train == 0).sum() / len(y_train) - \n",
    "        (y_test == 0).sum() / len(y_test)) < .01"
   ]
  },
  {
   "cell_type": "code",
   "execution_count": 50,
   "metadata": {},
   "outputs": [
    {
     "name": "stdout",
     "output_type": "stream",
     "text": [
      "dummy training set accuracy: 0.63\n",
      "    dummy test set accuracy: 0.63\n"
     ]
    }
   ],
   "source": [
    "# Get a baseline \n",
    "\n",
    "# Import DummyClassifier from sklearn\n",
    "from sklearn.dummy import DummyClassifier\n",
    "\n",
    "#   Instantiate DummyClassifier \n",
    "#      with strategy=\"prior\" (the default)\n",
    "#      and fit on X_train, y_train\n",
    "#      store as dummyc\n",
    "dummyc = DummyClassifier(strategy=\"prior\").fit(X_train, y_train)\n",
    "\n",
    "# print out the training set accuracy using dummyc.score()\n",
    "print(f'dummy training set accuracy: {dummyc.score(X_train, y_train):0.2f}')\n",
    "\n",
    "# print out the test set accuracy using dummyc.score()\n",
    "print(f'    dummy test set accuracy: {dummyc.score(X_test, y_test):0.2f}')"
   ]
  },
  {
   "cell_type": "code",
   "execution_count": 79,
   "metadata": {},
   "outputs": [
    {
     "name": "stdout",
     "output_type": "stream",
     "text": [
      "dtc training set accuracy: 1.00\n",
      "    dtc test set accuracy: 0.94\n"
     ]
    }
   ],
   "source": [
    "# Train and compare a Decision Tree model\n",
    "\n",
    "# Import DecisionTreeClassifier from sklearn\n",
    "from sklearn.tree import DecisionTreeClassifier\n",
    "\n",
    "# Instantiate a DecisionTreeClassifier \n",
    "#    with max_depth=10\n",
    "#    and train on X_train,y_train\n",
    "#    store as dtc\n",
    "dtc = DecisionTreeClassifier(max_depth=10, random_state=42).fit(X_train, y_train) # I added random_state=42 to ensure reproducibility\n",
    "\n",
    "# print out the training set accuracy using dtc.score()\n",
    "print(f'dtc training set accuracy: {dtc.score(X_train, y_train):0.2f}')\n",
    "\n",
    "# print out the test set accuracy using dtc.score()\n",
    "print(f'    dtc test set accuracy: {dtc.score(X_test, y_test):0.2f}')"
   ]
  },
  {
   "cell_type": "code",
   "execution_count": 82,
   "metadata": {},
   "outputs": [
    {
     "name": "stdout",
     "output_type": "stream",
     "text": [
      "[[47  6]\n",
      " [ 3 87]]\n"
     ]
    }
   ],
   "source": [
    "# To expose the different kinds of errors that our Decision Tree model is making,\n",
    "#   print a confusion matrix \n",
    "\n",
    "# import confusion_matrix from sklearn.metrics\n",
    "from sklearn.metrics import confusion_matrix\n",
    "\n",
    "# generate a confusion_matrix\n",
    "#    using y_test \n",
    "#    and the predictions generated by the trained dtc model on X_test\n",
    "#    store as cm\n",
    "cm = confusion_matrix(y_test, dtc.predict(X_test))\n",
    "\n",
    "print(cm)"
   ]
  },
  {
   "cell_type": "code",
   "execution_count": 89,
   "metadata": {},
   "outputs": [
    {
     "data": {
      "image/png": "[encoded data removed]",
      "text/plain": [
       "<Figure size 640x480 with 1 Axes>"
      ]
     },
     "metadata": {},
     "output_type": "display_data"
    }
   ],
   "source": [
    "# To help interpret the output of confusion_matrix, \n",
    "#    use plot_confusion_matrix from mlxtend\n",
    "\n",
    "# Import the plot_confusion_matrix function from mlxtend.plotting\n",
    "from mlxtend.plotting import plot_confusion_matrix\n",
    "import matplotlib.pyplot as plt\n",
    "\n",
    "# call plot_confusion_matrix() on the output of \n",
    "#   confusion_matrix generated above (cm)\n",
    "fig, ax = plot_confusion_matrix(conf_mat=cm)\n",
    "plt.show()"
   ]
  }
 ],
 "metadata": {
  "kernelspec": {
   "display_name": "eods",
   "language": "python",
   "name": "python3"
  },
  "language_info": {
   "codemirror_mode": {
    "name": "ipython",
    "version": 3
   },
   "file_extension": ".py",
   "mimetype": "text/x-python",
   "name": "python",
   "nbconvert_exporter": "python",
   "pygments_lexer": "ipython3",
   "version": "3.9.18"
  },
  "toc": {
   "base_numbering": 1,
   "nav_menu": {},
   "number_sections": false,
   "sideBar": true,
   "skip_h1_title": false,
   "title_cell": "Table of Contents",
   "title_sidebar": "Contents",
   "toc_cell": false,
   "toc_position": {},
   "toc_section_display": true,
   "toc_window_display": false
  }
 },
 "nbformat": 4,
 "nbformat_minor": 2
}
