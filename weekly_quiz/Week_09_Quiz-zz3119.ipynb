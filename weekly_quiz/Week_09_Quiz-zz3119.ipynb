{
 "cells": [
  {
   "cell_type": "markdown",
   "metadata": {
    "slideshow": {
     "slide_type": "subslide"
    }
   },
   "source": [
    "# Week 9 & 10 Quiz\n",
    "\n",
    "## Zichen Zhao - zz3119\n",
    "\n",
    "### Due Mon. Dec 2nd, 11:59pm\n",
    "\n",
    "This quiz has two sections. In section 1, we'll practice scaling data and using PCA for dimensionality reduction.\n",
    "In section 2, we focus on NLP and TF-IDF methods.  \n",
    "\n",
    "### Instructions\n",
    "\n",
    "Replace the Name and UNI in cell above and the notebook filename\n",
    "\n",
    "Replace all '____' below using the instructions provided.\n",
    "\n",
    "When completed, \n",
    " 1. make sure you've replaced Name and UNI in the first cell and filename\n",
    " 2. Kernel -> Restart & Run All to run all cells in order \n",
    " 3. Print Preview -> Print (Landscape Layout) -> Save to pdf \n",
    " 4. post pdf to GradeScope"
   ]
  },
  {
   "cell_type": "markdown",
   "metadata": {},
   "source": [
    "# PART 1"
   ]
  },
  {
   "cell_type": "code",
   "execution_count": 25,
   "metadata": {},
   "outputs": [
    {
     "name": "stdout",
     "output_type": "stream",
     "text": [
      "Collecting scikit-learn==1.3.2\n",
      "  Using cached scikit_learn-1.3.2-cp39-cp39-macosx_12_0_arm64.whl.metadata (11 kB)\n",
      "Collecting numpy<2.0,>=1.17.3 (from scikit-learn==1.3.2)\n",
      "  Using cached numpy-1.26.4-cp39-cp39-macosx_11_0_arm64.whl.metadata (61 kB)\n",
      "Collecting scipy>=1.5.0 (from scikit-learn==1.3.2)\n",
      "  Using cached scipy-1.13.1-cp39-cp39-macosx_12_0_arm64.whl.metadata (60 kB)\n",
      "Collecting joblib>=1.1.1 (from scikit-learn==1.3.2)\n",
      "  Using cached joblib-1.4.2-py3-none-any.whl.metadata (5.4 kB)\n",
      "Collecting threadpoolctl>=2.0.0 (from scikit-learn==1.3.2)\n",
      "  Using cached threadpoolctl-3.5.0-py3-none-any.whl.metadata (13 kB)\n",
      "Using cached scikit_learn-1.3.2-cp39-cp39-macosx_12_0_arm64.whl (9.5 MB)\n",
      "Using cached joblib-1.4.2-py3-none-any.whl (301 kB)\n",
      "Using cached numpy-1.26.4-cp39-cp39-macosx_11_0_arm64.whl (14.0 MB)\n",
      "Using cached scipy-1.13.1-cp39-cp39-macosx_12_0_arm64.whl (30.3 MB)\n",
      "Using cached threadpoolctl-3.5.0-py3-none-any.whl (18 kB)\n",
      "Installing collected packages: threadpoolctl, numpy, joblib, scipy, scikit-learn\n",
      "  Attempting uninstall: threadpoolctl\n",
      "    Found existing installation: threadpoolctl 3.5.0\n",
      "    Uninstalling threadpoolctl-3.5.0:\n",
      "      Successfully uninstalled threadpoolctl-3.5.0\n",
      "  Attempting uninstall: numpy\n",
      "    Found existing installation: numpy 1.26.4\n",
      "    Uninstalling numpy-1.26.4:\n",
      "      Successfully uninstalled numpy-1.26.4\n",
      "  Attempting uninstall: joblib\n",
      "    Found existing installation: joblib 1.4.2\n",
      "    Uninstalling joblib-1.4.2:\n",
      "      Successfully uninstalled joblib-1.4.2\n",
      "  Attempting uninstall: scipy\n",
      "    Found existing installation: scipy 1.13.1\n",
      "    Uninstalling scipy-1.13.1:\n",
      "      Successfully uninstalled scipy-1.13.1\n",
      "  Attempting uninstall: scikit-learn\n",
      "    Found existing installation: scikit-learn 1.3.2\n",
      "    Uninstalling scikit-learn-1.3.2:\n",
      "      Successfully uninstalled scikit-learn-1.3.2\n",
      "Successfully installed joblib-1.4.2 numpy-1.26.4 scikit-learn-1.3.2 scipy-1.13.1 threadpoolctl-3.5.0\n"
     ]
    }
   ],
   "source": [
    "!pip install scikit-learn==1.3.2 --force-reinstall"
   ]
  },
  {
   "cell_type": "markdown",
   "metadata": {},
   "source": [
    "### Load Standard Libraries"
   ]
  },
  {
   "cell_type": "code",
   "execution_count": 26,
   "metadata": {},
   "outputs": [],
   "source": [
    "# Import numpy, pandas, matplotlib.pyplot and seaborn\n",
    "import numpy as np\n",
    "import pandas as pd\n",
    "import matplotlib.pyplot as plt\n",
    "import seaborn as sns\n",
    "\n",
    "\n",
    "# Set matplotlib to display inline\n",
    "%matplotlib inline"
   ]
  },
  {
   "cell_type": "markdown",
   "metadata": {},
   "source": [
    "### Load the Dataset"
   ]
  },
  {
   "cell_type": "code",
   "execution_count": 27,
   "metadata": {},
   "outputs": [],
   "source": [
    "# Import load_breast_cancer from sklearn.datasets\n",
    "from sklearn.datasets import load_breast_cancer\n",
    "\n",
    "# Load the breast cancer dataset using the load_breast_cancer() function.\n",
    "# Store in the variable 'cancer'.\n",
    "cancer = load_breast_cancer()\n",
    "\n",
    "# Create a new dataframe X with values from cancer.data (which is stored as a numpy array)\n",
    "#    and with columns named using cancer.feature_names (also a numpy array)\n",
    "X = pd.DataFrame(cancer.data,columns=cancer.feature_names)\n",
    "\n",
    "# For this quiz, only keep the first 10 features/columns\n",
    "# Store the result back into X\n",
    "X = X.iloc[:,:10]\n",
    "\n",
    "# Assert that the shape of the dataframe is (569,10): 569 rows, 10 columns\n",
    "assert X.shape == (569,10)"
   ]
  },
  {
   "cell_type": "code",
   "execution_count": 28,
   "metadata": {},
   "outputs": [
    {
     "name": "stdout",
     "output_type": "stream",
     "text": [
      "   mean radius  mean texture  mean perimeter  mean area  mean smoothness  \\\n",
      "0        17.99         10.38          122.80     1001.0          0.11840   \n",
      "1        20.57         17.77          132.90     1326.0          0.08474   \n",
      "2        19.69         21.25          130.00     1203.0          0.10960   \n",
      "3        11.42         20.38           77.58      386.1          0.14250   \n",
      "4        20.29         14.34          135.10     1297.0          0.10030   \n",
      "\n",
      "   mean compactness  mean concavity  mean concave points  mean symmetry  \\\n",
      "0           0.27760          0.3001              0.14710         0.2419   \n",
      "1           0.07864          0.0869              0.07017         0.1812   \n",
      "2           0.15990          0.1974              0.12790         0.2069   \n",
      "3           0.28390          0.2414              0.10520         0.2597   \n",
      "4           0.13280          0.1980              0.10430         0.1809   \n",
      "\n",
      "   mean fractal dimension  \n",
      "0                 0.07871  \n",
      "1                 0.05667  \n",
      "2                 0.05999  \n",
      "3                 0.09744  \n",
      "4                 0.05883  \n"
     ]
    }
   ],
   "source": [
    "# Display the dataframe\n",
    "print(X.head())"
   ]
  },
  {
   "cell_type": "markdown",
   "metadata": {},
   "source": [
    "### Calculate Summary Stats"
   ]
  },
  {
   "cell_type": "code",
   "execution_count": 29,
   "metadata": {},
   "outputs": [
    {
     "data": {
      "text/html": [
       "<div>\n",
       "<style scoped>\n",
       "    .dataframe tbody tr th:only-of-type {\n",
       "        vertical-align: middle;\n",
       "    }\n",
       "\n",
       "    .dataframe tbody tr th {\n",
       "        vertical-align: top;\n",
       "    }\n",
       "\n",
       "    .dataframe thead th {\n",
       "        text-align: right;\n",
       "    }\n",
       "</style>\n",
       "<table border=\"1\" class=\"dataframe\">\n",
       "  <thead>\n",
       "    <tr style=\"text-align: right;\">\n",
       "      <th></th>\n",
       "      <th>mean</th>\n",
       "      <th>std</th>\n",
       "    </tr>\n",
       "  </thead>\n",
       "  <tbody>\n",
       "    <tr>\n",
       "      <th>mean radius</th>\n",
       "      <td>14.13</td>\n",
       "      <td>3.52</td>\n",
       "    </tr>\n",
       "    <tr>\n",
       "      <th>mean texture</th>\n",
       "      <td>19.29</td>\n",
       "      <td>4.30</td>\n",
       "    </tr>\n",
       "    <tr>\n",
       "      <th>mean perimeter</th>\n",
       "      <td>91.97</td>\n",
       "      <td>24.30</td>\n",
       "    </tr>\n",
       "    <tr>\n",
       "      <th>mean area</th>\n",
       "      <td>654.89</td>\n",
       "      <td>351.91</td>\n",
       "    </tr>\n",
       "    <tr>\n",
       "      <th>mean smoothness</th>\n",
       "      <td>0.10</td>\n",
       "      <td>0.01</td>\n",
       "    </tr>\n",
       "    <tr>\n",
       "      <th>mean compactness</th>\n",
       "      <td>0.10</td>\n",
       "      <td>0.05</td>\n",
       "    </tr>\n",
       "    <tr>\n",
       "      <th>mean concavity</th>\n",
       "      <td>0.09</td>\n",
       "      <td>0.08</td>\n",
       "    </tr>\n",
       "    <tr>\n",
       "      <th>mean concave points</th>\n",
       "      <td>0.05</td>\n",
       "      <td>0.04</td>\n",
       "    </tr>\n",
       "    <tr>\n",
       "      <th>mean symmetry</th>\n",
       "      <td>0.18</td>\n",
       "      <td>0.03</td>\n",
       "    </tr>\n",
       "    <tr>\n",
       "      <th>mean fractal dimension</th>\n",
       "      <td>0.06</td>\n",
       "      <td>0.01</td>\n",
       "    </tr>\n",
       "  </tbody>\n",
       "</table>\n",
       "</div>"
      ],
      "text/plain": [
       "                          mean     std\n",
       "mean radius              14.13    3.52\n",
       "mean texture             19.29    4.30\n",
       "mean perimeter           91.97   24.30\n",
       "mean area               654.89  351.91\n",
       "mean smoothness           0.10    0.01\n",
       "mean compactness          0.10    0.05\n",
       "mean concavity            0.09    0.08\n",
       "mean concave points       0.05    0.04\n",
       "mean symmetry             0.18    0.03\n",
       "mean fractal dimension    0.06    0.01"
      ]
     },
     "execution_count": 29,
     "metadata": {},
     "output_type": "execute_result"
    }
   ],
   "source": [
    "# The distribution of features in this dataset vary quite a bit, affecting PCA performance.\n",
    "# To get a sense of the difference, display the mean and standard deviation of each feature.\n",
    "# Use the .agg() function, which takes a list of strings describing the functions to apply.\n",
    "# Call .agg() on X\n",
    "#   with the function names 'mean' and 'std' \n",
    "#   transpose the dataframe using .T or .transpose()\n",
    "#   and round to a precision of 2\n",
    "summary_stats = X.agg(['mean','std']).T.round(2)\n",
    "summary_stats"
   ]
  },
  {
   "cell_type": "markdown",
   "metadata": {},
   "source": [
    "###  Standardize the Data"
   ]
  },
  {
   "cell_type": "code",
   "execution_count": 30,
   "metadata": {},
   "outputs": [
    {
     "data": {
      "text/html": [
       "<div>\n",
       "<style scoped>\n",
       "    .dataframe tbody tr th:only-of-type {\n",
       "        vertical-align: middle;\n",
       "    }\n",
       "\n",
       "    .dataframe tbody tr th {\n",
       "        vertical-align: top;\n",
       "    }\n",
       "\n",
       "    .dataframe thead th {\n",
       "        text-align: right;\n",
       "    }\n",
       "</style>\n",
       "<table border=\"1\" class=\"dataframe\">\n",
       "  <thead>\n",
       "    <tr style=\"text-align: right;\">\n",
       "      <th></th>\n",
       "      <th>mean</th>\n",
       "      <th>std</th>\n",
       "    </tr>\n",
       "  </thead>\n",
       "  <tbody>\n",
       "    <tr>\n",
       "      <th>mean radius</th>\n",
       "      <td>-0.0</td>\n",
       "      <td>1.0</td>\n",
       "    </tr>\n",
       "    <tr>\n",
       "      <th>mean texture</th>\n",
       "      <td>-0.0</td>\n",
       "      <td>1.0</td>\n",
       "    </tr>\n",
       "    <tr>\n",
       "      <th>mean perimeter</th>\n",
       "      <td>-0.0</td>\n",
       "      <td>1.0</td>\n",
       "    </tr>\n",
       "    <tr>\n",
       "      <th>mean area</th>\n",
       "      <td>-0.0</td>\n",
       "      <td>1.0</td>\n",
       "    </tr>\n",
       "    <tr>\n",
       "      <th>mean smoothness</th>\n",
       "      <td>0.0</td>\n",
       "      <td>1.0</td>\n",
       "    </tr>\n",
       "    <tr>\n",
       "      <th>mean compactness</th>\n",
       "      <td>-0.0</td>\n",
       "      <td>1.0</td>\n",
       "    </tr>\n",
       "    <tr>\n",
       "      <th>mean concavity</th>\n",
       "      <td>-0.0</td>\n",
       "      <td>1.0</td>\n",
       "    </tr>\n",
       "    <tr>\n",
       "      <th>mean concave points</th>\n",
       "      <td>0.0</td>\n",
       "      <td>1.0</td>\n",
       "    </tr>\n",
       "    <tr>\n",
       "      <th>mean symmetry</th>\n",
       "      <td>-0.0</td>\n",
       "      <td>1.0</td>\n",
       "    </tr>\n",
       "    <tr>\n",
       "      <th>mean fractal dimension</th>\n",
       "      <td>-0.0</td>\n",
       "      <td>1.0</td>\n",
       "    </tr>\n",
       "  </tbody>\n",
       "</table>\n",
       "</div>"
      ],
      "text/plain": [
       "                        mean  std\n",
       "mean radius             -0.0  1.0\n",
       "mean texture            -0.0  1.0\n",
       "mean perimeter          -0.0  1.0\n",
       "mean area               -0.0  1.0\n",
       "mean smoothness          0.0  1.0\n",
       "mean compactness        -0.0  1.0\n",
       "mean concavity          -0.0  1.0\n",
       "mean concave points      0.0  1.0\n",
       "mean symmetry           -0.0  1.0\n",
       "mean fractal dimension  -0.0  1.0"
      ]
     },
     "execution_count": 30,
     "metadata": {},
     "output_type": "execute_result"
    }
   ],
   "source": [
    "# Standardize the data to mean 0, standard deviation of 1 using sklearn StandardScaler\n",
    "\n",
    "#Import StandardScaler from sklearn\n",
    "from sklearn.preprocessing import StandardScaler\n",
    "\n",
    "# To standardize X use StandardScaler with default settings\n",
    "#  do a fit_transform() on X\n",
    "#  store in X_zscore\n",
    "scaler = StandardScaler()\n",
    "X_zscore = scaler.fit_transform(X)\n",
    "\n",
    "# Add feature names by creating a new DataFrame\n",
    "#  containing X_zscore\n",
    "#  with the same column names as the original dataframe X\n",
    "#  store back into X_zscore\n",
    "X_zscore = pd.DataFrame(X_zscore, columns=X.columns)\n",
    "\n",
    "# assert that the mean is near 0 and standard deviation is near 1 for all standardized features\n",
    "assert X_zscore.mean().round(2).eq(0).all() and X_zscore.std().round(2).eq(1).all()\n",
    "\n",
    "# To visually confirm that all features have been standardized:\n",
    "# Call .agg() on X_zscore\n",
    "#   with the function names 'mean' and 'std' \n",
    "#   transpose the dataframe using .T or .transpose()\n",
    "#   and round to a precision of 2\n",
    "summary_stats_zscore = X_zscore.agg(['mean','std']).T.round(2)\n",
    "summary_stats_zscore"
   ]
  },
  {
   "cell_type": "markdown",
   "metadata": {},
   "source": [
    "### Show Variance Described by PCA"
   ]
  },
  {
   "cell_type": "code",
   "execution_count": 31,
   "metadata": {},
   "outputs": [
    {
     "data": {
      "image/png": "[encoded data removed]",
      "text/plain": [
       "<Figure size 640x480 with 1 Axes>"
      ]
     },
     "metadata": {},
     "output_type": "display_data"
    }
   ],
   "source": [
    "# Import PCA from sklearn.\n",
    "from sklearn.decomposition import PCA\n",
    "\n",
    "# Fit a PCA model to X_zscore using PCA() with default parameters\n",
    "#   and store in pca\n",
    "pca = PCA()\n",
    "pca.fit(X_zscore)\n",
    "\n",
    "# Create a new DataFrame with 2 columns:\n",
    "#   \"component\" with values 0 to the number of components in pca\n",
    "#   \"cumulative explained variance\" with the .cumsum() of the explained_variance_ratio_ in pca\n",
    "#   store in df_var\n",
    "df_var = pd.DataFrame({'component': range(1, len(pca.explained_variance_ratio_) + 1),\n",
    "                      'cumulative explained variance': pca.explained_variance_ratio_.cumsum()})\n",
    "\n",
    "# Use sns.pointplot() to plot the data from df_var with\n",
    "#   \"component\" on the x-axis\n",
    "#   \"cumulative explained variance\" on the y-axis\n",
    "sns.pointplot(x='component', y='cumulative explained variance', data=df_var)\n",
    "plt.title ('Cumulative Explained Variance by PCA Component')\n",
    "plt.xlabel ('PCA Component')\n",
    "plt.ylabel ('Cumulative Explained Variance')\n",
    "plt.show()\n",
    "\n",
    "# Note that over 55% of the variance is explained by the first component\n",
    "# Over 80% by the first 2 components\n",
    "# Over 90% by the first 4 components"
   ]
  },
  {
   "cell_type": "markdown",
   "metadata": {},
   "source": [
    "### Transform Dataset using First 2 Components"
   ]
  },
  {
   "cell_type": "code",
   "execution_count": 32,
   "metadata": {},
   "outputs": [
    {
     "data": {
      "text/html": [
       "<div>\n",
       "<style scoped>\n",
       "    .dataframe tbody tr th:only-of-type {\n",
       "        vertical-align: middle;\n",
       "    }\n",
       "\n",
       "    .dataframe tbody tr th {\n",
       "        vertical-align: top;\n",
       "    }\n",
       "\n",
       "    .dataframe thead th {\n",
       "        text-align: right;\n",
       "    }\n",
       "</style>\n",
       "<table border=\"1\" class=\"dataframe\">\n",
       "  <thead>\n",
       "    <tr style=\"text-align: right;\">\n",
       "      <th></th>\n",
       "      <th>component0</th>\n",
       "      <th>component1</th>\n",
       "    </tr>\n",
       "  </thead>\n",
       "  <tbody>\n",
       "    <tr>\n",
       "      <th>0</th>\n",
       "      <td>5.224155</td>\n",
       "      <td>3.204428</td>\n",
       "    </tr>\n",
       "    <tr>\n",
       "      <th>1</th>\n",
       "      <td>1.728094</td>\n",
       "      <td>-2.540839</td>\n",
       "    </tr>\n",
       "    <tr>\n",
       "      <th>2</th>\n",
       "      <td>3.969757</td>\n",
       "      <td>-0.550075</td>\n",
       "    </tr>\n",
       "    <tr>\n",
       "      <th>3</th>\n",
       "      <td>3.596713</td>\n",
       "      <td>6.905070</td>\n",
       "    </tr>\n",
       "    <tr>\n",
       "      <th>4</th>\n",
       "      <td>3.151092</td>\n",
       "      <td>-1.358072</td>\n",
       "    </tr>\n",
       "  </tbody>\n",
       "</table>\n",
       "</div>"
      ],
      "text/plain": [
       "   component0  component1\n",
       "0    5.224155    3.204428\n",
       "1    1.728094   -2.540839\n",
       "2    3.969757   -0.550075\n",
       "3    3.596713    6.905070\n",
       "4    3.151092   -1.358072"
      ]
     },
     "execution_count": 32,
     "metadata": {},
     "output_type": "execute_result"
    }
   ],
   "source": [
    "# Fit and transform X_zscore using a new PCA model with n_components=2\n",
    "# Store the transformed dataset in X_pca\n",
    "pca_2 = PCA(n_components=2)\n",
    "X_pca = pca_2.fit_transform(X_zscore)\n",
    "\n",
    "# Add feature names by creating a new DataFrame\n",
    "#  containing X_pca\n",
    "#  with the column names ['component0','component1']\n",
    "#  store back into X_pca\n",
    "X_pca = pd.DataFrame(X_pca, columns=['component0','component1'])\n",
    "\n",
    "# Assert that the pca representation has the same number of rows (569) but now 2 columns\n",
    "assert X_pca.shape == (569,2)\n",
    "X_pca.head()"
   ]
  },
  {
   "cell_type": "markdown",
   "metadata": {},
   "source": [
    "### Plot the Reduced Representation"
   ]
  },
  {
   "cell_type": "code",
   "execution_count": 33,
   "metadata": {},
   "outputs": [
    {
     "data": {
      "image/png": "[encoded data removed]",
      "text/plain": [
       "<Figure size 640x480 with 1 Axes>"
      ]
     },
     "metadata": {},
     "output_type": "display_data"
    }
   ],
   "source": [
    "# Using seaborn, create a scatterplot of the data in X_pca\n",
    "#  with component0 on the x-axis\n",
    "#  and component1 on the y-axis\n",
    "#  Color the points by their class assignment by setting hue=cancer.target\n",
    "#  Capture the returned axis in ax\n",
    "ax = sns.scatterplot(x=X_pca['component0'], y=X_pca['component1'], hue=cancer.target)\n",
    "\n",
    "# Set the title to 'First 2 Components Colored by Class' using ax\n",
    "ax.set_title('First 2 Components Colored by Class')\n",
    "plt.xlabel('Component 0')\n",
    "plt.ylabel('Component 1')\n",
    "plt.show()\n",
    "\n",
    "# Note that we haven't used the cancer.target information to generate the pca representation.\n",
    "# We're coloring by cancer.target here to demonstrate that under this transformation\n",
    "#   a linear model will do a decent job of separating the classes"
   ]
  },
  {
   "cell_type": "markdown",
   "metadata": {},
   "source": [
    "# PART 2"
   ]
  },
  {
   "cell_type": "markdown",
   "metadata": {},
   "source": [
    "### Load the Dataset"
   ]
  },
  {
   "cell_type": "code",
   "execution_count": 34,
   "metadata": {},
   "outputs": [
    {
     "data": {
      "text/plain": [
       "1187"
      ]
     },
     "execution_count": 34,
     "metadata": {},
     "output_type": "execute_result"
    }
   ],
   "source": [
    "# Import fetch_20newsgroups from sklearn.datasets\n",
    "from sklearn.datasets import fetch_20newsgroups\n",
    "\n",
    "# Load the dataset using fetch_20newsgroups().\n",
    "#   Only fetch the two categories of interest using categories=['sci.space','rec.autos']\n",
    "# Store in the result into newsgroups\n",
    "newsgroups = fetch_20newsgroups(categories=['sci.space','rec.autos'])\n",
    "\n",
    "# Store the newsgroups.data as docs, newsgroups.target as y and newsgroups.target_names as y_names\n",
    "docs = newsgroups.data\n",
    "y = newsgroups.target\n",
    "y_names = newsgroups.target_names\n",
    "\n",
    "# Print the number of observations by printing the length of docs\n",
    "#  You should get 1187\n",
    "len(docs)"
   ]
  },
  {
   "cell_type": "code",
   "execution_count": 35,
   "metadata": {},
   "outputs": [
    {
     "name": "stdout",
     "output_type": "stream",
     "text": [
      "with print():\n",
      "From: prb@access.digex.com (Pat)\n",
      "Subject: Re: Proton/Centaur?\n",
      "Organization: Express Access Online Communications USA\n",
      "Lines: 15\n",
      "NNTP-Posting-Host: access.digex.net\n",
      "\n",
      "\n",
      "Well thank you dennis for your as usual highly detailed and informative \n",
      "posting.   \n",
      "\n",
      "The question i have about the proton, is  could it be  handled at\n",
      "one of KSC's spare pads, without major  malfunction,  or could it be\n",
      "handled at kourou  or Vandenberg?   \n",
      "\n",
      "Now if it uses storables,  then  how long would it take for the russians\n",
      "to equip something at cape york?\n",
      "\n",
      "If  Proton were launched from a western site,  how would it compare to the\n",
      "T4/centaur?   As i see it, it should lift  very close to the T4.\n",
      "\n",
      "pat\n",
      "\n",
      "\n",
      "without print():\n"
     ]
    },
    {
     "data": {
      "text/plain": [
       "\"From: prb@access.digex.com (Pat)\\nSubject: Re: Proton/Centaur?\\nOrganization: Express Access Online Communications USA\\nLines: 15\\nNNTP-Posting-Host: access.digex.net\\n\\n\\nWell thank you dennis for your as usual highly detailed and informative \\nposting.   \\n\\nThe question i have about the proton, is  could it be  handled at\\none of KSC's spare pads, without major  malfunction,  or could it be\\nhandled at kourou  or Vandenberg?   \\n\\nNow if it uses storables,  then  how long would it take for the russians\\nto equip something at cape york?\\n\\nIf  Proton were launched from a western site,  how would it compare to the\\nT4/centaur?   As i see it, it should lift  very close to the T4.\\n\\npat\\n\""
      ]
     },
     "execution_count": 35,
     "metadata": {},
     "output_type": "execute_result"
    }
   ],
   "source": [
    "# Print the text of the first document in docs.\n",
    "# Note: try printing both with and without the print() statement\n",
    "#  with the print statement, linebreaks are parsed,\n",
    "#  without, linebreaks are printed as excape characters\n",
    "print(\"with print():\")\n",
    "print(docs[0])\n",
    "\n",
    "print(\"\\nwithout print():\")\n",
    "docs[0]"
   ]
  },
  {
   "cell_type": "code",
   "execution_count": 36,
   "metadata": {},
   "outputs": [
    {
     "name": "stdout",
     "output_type": "stream",
     "text": [
      "The target value of the first document in y is 1\n"
     ]
    }
   ],
   "source": [
    "# Print the target value of the first document in y.\n",
    "print(f\"The target value of the first document in y is {y[0]}\")"
   ]
  },
  {
   "cell_type": "code",
   "execution_count": 37,
   "metadata": {},
   "outputs": [
    {
     "name": "stdout",
     "output_type": "stream",
     "text": [
      "Target name of the first document: sci.space\n"
     ]
    }
   ],
   "source": [
    "# Print the target_name of the first document using y_names and y.\n",
    "print(f\"Target name of the first document: {y_names[y[0]]}\")"
   ]
  },
  {
   "cell_type": "markdown",
   "metadata": {},
   "source": [
    "### Use CountVectorizer to Convert To TF"
   ]
  },
  {
   "cell_type": "code",
   "execution_count": 51,
   "metadata": {},
   "outputs": [
    {
     "name": "stdout",
     "output_type": "stream",
     "text": [
      "(1187, 5893)\n"
     ]
    }
   ],
   "source": [
    "# Import CountVectorizer from sklearn\n",
    "from sklearn.feature_extraction.text import CountVectorizer\n",
    "\n",
    "# Initialize a CountVectorizer object. It should\n",
    "#   lowercase all text, \n",
    "#   include both unigrams and bigrams: ngram_range=(1,2)\n",
    "#   exclude terms that occur in fewer than 10 documents: min_df=10\n",
    "#   exclude terms that occur in more than 95% of documents: max_df=.95\n",
    "# Store as cvect\n",
    "cvect = CountVectorizer(lowercase=True, ngram_range=(1,2), min_df=10, max_df=.95)\n",
    "\n",
    "# Fit cvect on docs and transform docs into their term frequency representation.\n",
    "# Store as X_tf\n",
    "X_tf = cvect.fit_transform(docs)\n",
    "\n",
    "# Print the shape of X_tf. \n",
    "# The number of rows should match the number of documents above\n",
    "#  and the number of columns should be near 6000\n",
    "print(X_tf.shape)"
   ]
  },
  {
   "cell_type": "code",
   "execution_count": 52,
   "metadata": {},
   "outputs": [
    {
     "name": "stdout",
     "output_type": "stream",
     "text": [
      "['zoo' 'zoo toronto' 'zoology' 'zoology kipling' 'zoology lines']\n"
     ]
    }
   ],
   "source": [
    "# Print out the last 5 terms in the learned vocabulary in cvect\n",
    "#   using .get_feature_names_out() which returns a list of terms corresponding\n",
    "#   to the order of the columns in X_tf\n",
    "# They should all be related to zoos or zoology\n",
    "vocab = cvect.get_feature_names_out()\n",
    "print(vocab[-5:])"
   ]
  },
  {
   "cell_type": "code",
   "execution_count": 54,
   "metadata": {},
   "outputs": [
    {
     "name": "stdout",
     "output_type": "stream",
     "text": [
      "No stopwords were identified by CountVectorizer.\n"
     ]
    }
   ],
   "source": [
    "if hasattr(cvect, 'stop_words_'):\n",
    "    stop_words_list = list(cvect.stop_words_)\n",
    "    print(stop_words_list[:5])\n",
    "else:\n",
    "    print(\"No stopwords were identified by CountVectorizer.\")"
   ]
  },
  {
   "cell_type": "code",
   "execution_count": 40,
   "metadata": {},
   "outputs": [
    {
     "ename": "AttributeError",
     "evalue": "'CountVectorizer' object has no attribute 'stop_words_'",
     "output_type": "error",
     "traceback": [
      "\u001b[0;31m---------------------------------------------------------------------------\u001b[0m",
      "\u001b[0;31mAttributeError\u001b[0m                            Traceback (most recent call last)",
      "Cell \u001b[0;32mIn[40], line 6\u001b[0m\n\u001b[1;32m      1\u001b[0m \u001b[38;5;66;03m# The stopwords learned by cvect are stored as a set in cvect.stop_words_\u001b[39;00m\n\u001b[1;32m      2\u001b[0m \u001b[38;5;66;03m# We'd like to print out a small subset of these terms.\u001b[39;00m\n\u001b[1;32m      3\u001b[0m \u001b[38;5;66;03m# One way to get a subset of a set is to treat it as a list.\u001b[39;00m\n\u001b[1;32m      4\u001b[0m \u001b[38;5;66;03m# First, convert the stop_words_ set to a list.\u001b[39;00m\n\u001b[1;32m      5\u001b[0m \u001b[38;5;66;03m# Store as stop_words_list\u001b[39;00m\n\u001b[0;32m----> 6\u001b[0m stop_words_list \u001b[38;5;241m=\u001b[39m \u001b[38;5;28mlist\u001b[39m(\u001b[43mcvect\u001b[49m\u001b[38;5;241;43m.\u001b[39;49m\u001b[43mstop_words_\u001b[49m)\n\u001b[1;32m      8\u001b[0m \u001b[38;5;66;03m# Print out the first 5 elements in stop_words_list.\u001b[39;00m\n\u001b[1;32m      9\u001b[0m \u001b[38;5;66;03m# Note that, since a set is unordered, \u001b[39;00m\n\u001b[1;32m     10\u001b[0m \u001b[38;5;66;03m#  there is no meaning to the ordering of these terms and they may vary over runs.\u001b[39;00m\n\u001b[1;32m     11\u001b[0m \u001b[38;5;28mprint\u001b[39m(stop_words_list[:\u001b[38;5;241m5\u001b[39m])\n",
      "\u001b[0;31mAttributeError\u001b[0m: 'CountVectorizer' object has no attribute 'stop_words_'"
     ]
    }
   ],
   "source": [
    "# The stopwords learned by cvect are stored as a set in cvect.stop_words_\n",
    "# We'd like to print out a small subset of these terms.\n",
    "# One way to get a subset of a set is to treat it as a list.\n",
    "# First, convert the stop_words_ set to a list.\n",
    "# Store as stop_words_list\n",
    "stop_words_list = list(cvect.stop_words_)\n",
    "\n",
    "# Print out the first 5 elements in stop_words_list.\n",
    "# Note that, since a set is unordered, \n",
    "#  there is no meaning to the ordering of these terms and they may vary over runs.\n",
    "print(stop_words_list[:5])"
   ]
  },
  {
   "cell_type": "markdown",
   "metadata": {},
   "source": [
    "### Calculate Mean CV Accuracy Using RandomForestClassifier"
   ]
  },
  {
   "cell_type": "code",
   "execution_count": 16,
   "metadata": {},
   "outputs": [
    {
     "name": "stdout",
     "output_type": "stream",
     "text": [
      "Mean CV Score: 0.97\n"
     ]
    }
   ],
   "source": [
    "# Import cross_val_score from sklearn\n",
    "from sklearn.model_selection import cross_val_score\n",
    "\n",
    "# Import RandomForestClassifier from sklearn\n",
    "from sklearn.ensemble import RandomForestClassifier\n",
    "\n",
    "# Get a set of 5-fold CV scores using\n",
    "#  a RandomForestClassifier \n",
    "#   with 50 trees \n",
    "#   and n_jobs=-1 all other settings default\n",
    "#   and the full dataset X_tf and y\n",
    "# Store as cv_scores\n",
    "clf = RandomForestClassifier(n_estimators=50, n_jobs=-1, random_state=42)\n",
    "cv_scores = cross_val_score(clf, X_tf, y, cv=5)\n",
    "\n",
    "# Print the mean of these cv_scores rounded to a precision of 2.\n",
    "#  The mean accuracy should be above .9\n",
    "mean_cv_score = round(cv_scores.mean(), 2)\n",
    "print(f\"Mean CV Score: {mean_cv_score}\")"
   ]
  },
  {
   "cell_type": "markdown",
   "metadata": {},
   "source": [
    "### Optional: Find Important Features"
   ]
  },
  {
   "cell_type": "code",
   "execution_count": 17,
   "metadata": {},
   "outputs": [
    {
     "name": "stdout",
     "output_type": "stream",
     "text": [
      "       feature  importance\n",
      "4463     space    0.043084\n",
      "1011       car    0.040152\n",
      "1039      cars    0.017982\n",
      "3278      nasa    0.017713\n",
      "3196      moon    0.013581\n",
      "2804    launch    0.013451\n",
      "3611     orbit    0.012547\n",
      "3280  nasa gov    0.011555\n",
      "4814   the car    0.009347\n",
      "1475     digex    0.008793\n"
     ]
    }
   ],
   "source": [
    "# CountVectorizer stores the feature names (terms in the vocabulary) in two ways:\n",
    "#  1. as a dictionary of term:colum_index pairs, accessed via cvect.vocabulary_\n",
    "#  2. as a list of terms, in column index order, accessed via cvect.get_feature_names_out()\n",
    "#\n",
    "# We can get the indices of the most important features by training a new RandomForestClassifier on X_tf,y\n",
    "#  and accessing .feature_importances_\n",
    "clf = RandomForestClassifier(n_estimators=50, n_jobs=-1, random_state=42)\n",
    "clf.fit(X_tf, y)\n",
    "feature_importances = clf.feature_importances_\n",
    "feature_names = cvect.get_feature_names_out()\n",
    "\n",
    "# Using some combination of the above data-structures, \n",
    "#  print out the top 10 terms in the vocabulary\n",
    "#  ranked by the feature importances learned by a RandomForestClassifier with 50 trees\n",
    "importances_df = pd.DataFrame({\"feature\": feature_names, \"importance\": feature_importances})\n",
    "top_features = importances_df.sort_values(\"importance\", ascending=False).head(10)\n",
    "print(top_features)\n",
    "# The terms you find will likely not be surprising given the document categories."
   ]
  }
 ],
 "metadata": {
  "kernelspec": {
   "display_name": "eods",
   "language": "python",
   "name": "python3"
  },
  "language_info": {
   "codemirror_mode": {
    "name": "ipython",
    "version": 3
   },
   "file_extension": ".py",
   "mimetype": "text/x-python",
   "name": "python",
   "nbconvert_exporter": "python",
   "pygments_lexer": "ipython3",
   "version": "3.9.18"
  },
  "toc": {
   "base_numbering": 1,
   "nav_menu": {},
   "number_sections": false,
   "sideBar": true,
   "skip_h1_title": false,
   "title_cell": "Table of Contents",
   "title_sidebar": "Contents",
   "toc_cell": false,
   "toc_position": {},
   "toc_section_display": true,
   "toc_window_display": false
  }
 },
 "nbformat": 4,
 "nbformat_minor": 2
}
